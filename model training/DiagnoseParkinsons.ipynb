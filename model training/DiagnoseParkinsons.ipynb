{
  "nbformat": 4,
  "nbformat_minor": 0,
  "metadata": {
    "colab": {
      "name": "DiagnoseParkinsons.ipynb",
      "provenance": [],
      "collapsed_sections": []
    },
    "kernelspec": {
      "display_name": "Python 3",
      "language": "python",
      "name": "python3"
    },
    "language_info": {
      "codemirror_mode": {
        "name": "ipython",
        "version": 3
      },
      "file_extension": ".py",
      "mimetype": "text/x-python",
      "name": "python",
      "nbconvert_exporter": "python",
      "pygments_lexer": "ipython3",
      "version": "3.7.4"
    }
  },
  "cells": [
    {
      "cell_type": "code",
      "metadata": {
        "colab_type": "code",
        "id": "ASJZVmW6sDcn",
        "outputId": "b282ee6c-fb00-4ef9-c5ba-4030467052ec",
        "colab": {
          "base_uri": "https://localhost:8080/",
          "height": 564
        }
      },
      "source": [
        "!pip install tensorflow==1.14.0\n",
        "!pip install numpy\n",
        "!pip install pandas\n",
        "!pip install sklearn"
      ],
      "execution_count": 5,
      "outputs": [
        {
          "output_type": "stream",
          "text": [
            "Requirement already satisfied: tensorflow==1.14.0 in /usr/local/lib/python3.6/dist-packages (1.14.0)\n",
            "Requirement already satisfied: gast>=0.2.0 in /usr/local/lib/python3.6/dist-packages (from tensorflow==1.14.0) (0.2.2)\n",
            "Requirement already satisfied: tensorflow-estimator<1.15.0rc0,>=1.14.0rc0 in /usr/local/lib/python3.6/dist-packages (from tensorflow==1.14.0) (1.14.0)\n",
            "Requirement already satisfied: google-pasta>=0.1.6 in /usr/local/lib/python3.6/dist-packages (from tensorflow==1.14.0) (0.1.8)\n",
            "Requirement already satisfied: numpy<2.0,>=1.14.5 in /usr/local/lib/python3.6/dist-packages (from tensorflow==1.14.0) (1.17.4)\n",
            "Requirement already satisfied: keras-preprocessing>=1.0.5 in /usr/local/lib/python3.6/dist-packages (from tensorflow==1.14.0) (1.1.0)\n",
            "Requirement already satisfied: wheel>=0.26 in /usr/local/lib/python3.6/dist-packages (from tensorflow==1.14.0) (0.33.6)\n",
            "Requirement already satisfied: grpcio>=1.8.6 in /usr/local/lib/python3.6/dist-packages (from tensorflow==1.14.0) (1.15.0)\n",
            "Requirement already satisfied: absl-py>=0.7.0 in /usr/local/lib/python3.6/dist-packages (from tensorflow==1.14.0) (0.8.1)\n",
            "Requirement already satisfied: wrapt>=1.11.1 in /usr/local/lib/python3.6/dist-packages (from tensorflow==1.14.0) (1.11.2)\n",
            "Requirement already satisfied: protobuf>=3.6.1 in /usr/local/lib/python3.6/dist-packages (from tensorflow==1.14.0) (3.10.0)\n",
            "Requirement already satisfied: termcolor>=1.1.0 in /usr/local/lib/python3.6/dist-packages (from tensorflow==1.14.0) (1.1.0)\n",
            "Requirement already satisfied: keras-applications>=1.0.6 in /usr/local/lib/python3.6/dist-packages (from tensorflow==1.14.0) (1.0.8)\n",
            "Requirement already satisfied: astor>=0.6.0 in /usr/local/lib/python3.6/dist-packages (from tensorflow==1.14.0) (0.8.0)\n",
            "Requirement already satisfied: tensorboard<1.15.0,>=1.14.0 in /usr/local/lib/python3.6/dist-packages (from tensorflow==1.14.0) (1.14.0)\n",
            "Requirement already satisfied: six>=1.10.0 in /usr/local/lib/python3.6/dist-packages (from tensorflow==1.14.0) (1.12.0)\n",
            "Requirement already satisfied: setuptools in /usr/local/lib/python3.6/dist-packages (from protobuf>=3.6.1->tensorflow==1.14.0) (41.6.0)\n",
            "Requirement already satisfied: h5py in /usr/local/lib/python3.6/dist-packages (from keras-applications>=1.0.6->tensorflow==1.14.0) (2.8.0)\n",
            "Requirement already satisfied: werkzeug>=0.11.15 in /usr/local/lib/python3.6/dist-packages (from tensorboard<1.15.0,>=1.14.0->tensorflow==1.14.0) (0.16.0)\n",
            "Requirement already satisfied: markdown>=2.6.8 in /usr/local/lib/python3.6/dist-packages (from tensorboard<1.15.0,>=1.14.0->tensorflow==1.14.0) (3.1.1)\n",
            "Requirement already satisfied: numpy in /usr/local/lib/python3.6/dist-packages (1.17.4)\n",
            "Requirement already satisfied: pandas in /usr/local/lib/python3.6/dist-packages (0.25.3)\n",
            "Requirement already satisfied: pytz>=2017.2 in /usr/local/lib/python3.6/dist-packages (from pandas) (2018.9)\n",
            "Requirement already satisfied: numpy>=1.13.3 in /usr/local/lib/python3.6/dist-packages (from pandas) (1.17.4)\n",
            "Requirement already satisfied: python-dateutil>=2.6.1 in /usr/local/lib/python3.6/dist-packages (from pandas) (2.6.1)\n",
            "Requirement already satisfied: six>=1.5 in /usr/local/lib/python3.6/dist-packages (from python-dateutil>=2.6.1->pandas) (1.12.0)\n",
            "Requirement already satisfied: sklearn in /usr/local/lib/python3.6/dist-packages (0.0)\n",
            "Requirement already satisfied: scikit-learn in /usr/local/lib/python3.6/dist-packages (from sklearn) (0.21.3)\n",
            "Requirement already satisfied: scipy>=0.17.0 in /usr/local/lib/python3.6/dist-packages (from scikit-learn->sklearn) (1.3.2)\n",
            "Requirement already satisfied: numpy>=1.11.0 in /usr/local/lib/python3.6/dist-packages (from scikit-learn->sklearn) (1.17.4)\n",
            "Requirement already satisfied: joblib>=0.11 in /usr/local/lib/python3.6/dist-packages (from scikit-learn->sklearn) (0.14.0)\n"
          ],
          "name": "stdout"
        }
      ]
    },
    {
      "cell_type": "code",
      "metadata": {
        "colab_type": "code",
        "id": "eaWmRbeqsLv2",
        "colab": {}
      },
      "source": [
        "import tensorflow\n",
        "from tensorflow.keras.models import Sequential\n",
        "from tensorflow.keras.layers import Dense, Dropout, Input\n",
        "from tensorflow.keras.models import Sequential\n",
        "from tensorflow.keras.callbacks import EarlyStopping\n",
        "import pandas as pd\n",
        "from sklearn.preprocessing import MinMaxScaler\n",
        "from sklearn.model_selection import train_test_split\n",
        "import matplotlib.pyplot as plt"
      ],
      "execution_count": 0,
      "outputs": []
    },
    {
      "cell_type": "code",
      "metadata": {
        "colab_type": "code",
        "id": "_0P1cKSQsBvI",
        "colab": {}
      },
      "source": [
        "def create_model():\n",
        "    # Create a neural network\n",
        "    model = Sequential()\n",
        "    model.add(Input((15,)))\n",
        "    model.add(Dense(100, activation='relu'))\n",
        "    model.add(Dense(1, activation='sigmoid'))\n",
        "    model.compile(loss=\"binary_crossentropy\", optimizer=\"adam\", metrics=[\"accuracy\"])\n",
        "    return model"
      ],
      "execution_count": 0,
      "outputs": []
    },
    {
      "cell_type": "code",
      "metadata": {
        "colab_type": "code",
        "id": "nFjMTkI1uZeP",
        "colab": {}
      },
      "source": [
        "df = pd.read_csv(\"data.csv\")\n",
        "labels = df[\"status\"]\n",
        "df = df.drop(columns=[\"status\", \"spread1\", \"spread2\", \"D2\", \"PPE\", \"NHR\", \"RPDE\", \"DFA\"], axis=1)\n",
        "df[df.columns] = MinMaxScaler(feature_range=(0,1)).fit_transform(df[df.columns])"
      ],
      "execution_count": 0,
      "outputs": []
    },
    {
      "cell_type": "code",
      "metadata": {
        "colab_type": "code",
        "id": "SBvjiZ_RwWxy",
        "colab": {}
      },
      "source": [
        "seed = 1337\n",
        "X_train, X_test, Y_train, Y_test = train_test_split(df, labels, test_size=0.2, random_state=seed)\n",
        "X_train, X_validation, Y_train, Y_validation = train_test_split(X_train, Y_train, test_size=0.25, random_state=seed)"
      ],
      "execution_count": 0,
      "outputs": []
    },
    {
      "cell_type": "code",
      "metadata": {
        "colab_type": "code",
        "id": "BrFrVylhx-Pp",
        "outputId": "b1bd3412-5c71-4222-a234-e0cbbbbe0e9c",
        "colab": {
          "base_uri": "https://localhost:8080/",
          "height": 1000
        }
      },
      "source": [
        "model = create_model()\n",
        "early_stopping = EarlyStopping(monitor='val_loss', mode='min', verbose=1, patience=10)\n",
        "history = model.fit(X_train, Y_train, validation_data=(X_validation, Y_validation), epochs=1000, callbacks=[early_stopping])"
      ],
      "execution_count": 10,
      "outputs": [
        {
          "output_type": "stream",
          "text": [
            "WARNING:tensorflow:From /usr/local/lib/python3.6/dist-packages/tensorflow/python/ops/init_ops.py:1251: calling VarianceScaling.__init__ (from tensorflow.python.ops.init_ops) with dtype is deprecated and will be removed in a future version.\n",
            "Instructions for updating:\n",
            "Call initializer instance with the dtype argument instead of passing it to the constructor\n",
            "WARNING:tensorflow:From /usr/local/lib/python3.6/dist-packages/tensorflow/python/ops/nn_impl.py:180: add_dispatch_support.<locals>.wrapper (from tensorflow.python.ops.array_ops) is deprecated and will be removed in a future version.\n",
            "Instructions for updating:\n",
            "Use tf.where in 2.0, which has the same broadcast rule as np.where\n",
            "Train on 117 samples, validate on 39 samples\n",
            "Epoch 1/1000\n",
            "117/117 [==============================] - 0s 1ms/sample - loss: 0.7046 - acc: 0.3248 - val_loss: 0.6845 - val_acc: 0.5897\n",
            "Epoch 2/1000\n",
            "117/117 [==============================] - 0s 127us/sample - loss: 0.6756 - acc: 0.6838 - val_loss: 0.6549 - val_acc: 0.7692\n",
            "Epoch 3/1000\n",
            "117/117 [==============================] - 0s 155us/sample - loss: 0.6449 - acc: 0.7436 - val_loss: 0.6299 - val_acc: 0.7692\n",
            "Epoch 4/1000\n",
            "117/117 [==============================] - 0s 121us/sample - loss: 0.6231 - acc: 0.7436 - val_loss: 0.6074 - val_acc: 0.7692\n",
            "Epoch 5/1000\n",
            "117/117 [==============================] - 0s 141us/sample - loss: 0.6016 - acc: 0.7436 - val_loss: 0.5885 - val_acc: 0.7692\n",
            "Epoch 6/1000\n",
            "117/117 [==============================] - 0s 119us/sample - loss: 0.5824 - acc: 0.7436 - val_loss: 0.5726 - val_acc: 0.7692\n",
            "Epoch 7/1000\n",
            "117/117 [==============================] - 0s 114us/sample - loss: 0.5691 - acc: 0.7436 - val_loss: 0.5584 - val_acc: 0.7692\n",
            "Epoch 8/1000\n",
            "117/117 [==============================] - 0s 166us/sample - loss: 0.5543 - acc: 0.7436 - val_loss: 0.5472 - val_acc: 0.7692\n",
            "Epoch 9/1000\n",
            "117/117 [==============================] - 0s 137us/sample - loss: 0.5437 - acc: 0.7436 - val_loss: 0.5375 - val_acc: 0.7692\n",
            "Epoch 10/1000\n",
            "117/117 [==============================] - 0s 149us/sample - loss: 0.5342 - acc: 0.7436 - val_loss: 0.5297 - val_acc: 0.7692\n",
            "Epoch 11/1000\n",
            "117/117 [==============================] - 0s 198us/sample - loss: 0.5234 - acc: 0.7436 - val_loss: 0.5241 - val_acc: 0.7692\n",
            "Epoch 12/1000\n",
            "117/117 [==============================] - 0s 164us/sample - loss: 0.5167 - acc: 0.7436 - val_loss: 0.5188 - val_acc: 0.7692\n",
            "Epoch 13/1000\n",
            "117/117 [==============================] - 0s 134us/sample - loss: 0.5096 - acc: 0.7436 - val_loss: 0.5144 - val_acc: 0.7692\n",
            "Epoch 14/1000\n",
            "117/117 [==============================] - 0s 131us/sample - loss: 0.5033 - acc: 0.7436 - val_loss: 0.5106 - val_acc: 0.7692\n",
            "Epoch 15/1000\n",
            "117/117 [==============================] - 0s 116us/sample - loss: 0.4975 - acc: 0.7436 - val_loss: 0.5070 - val_acc: 0.7692\n",
            "Epoch 16/1000\n",
            "117/117 [==============================] - 0s 113us/sample - loss: 0.4917 - acc: 0.7436 - val_loss: 0.5039 - val_acc: 0.7692\n",
            "Epoch 17/1000\n",
            "117/117 [==============================] - 0s 124us/sample - loss: 0.4869 - acc: 0.7436 - val_loss: 0.5012 - val_acc: 0.7692\n",
            "Epoch 18/1000\n",
            "117/117 [==============================] - 0s 138us/sample - loss: 0.4817 - acc: 0.7436 - val_loss: 0.4990 - val_acc: 0.7692\n",
            "Epoch 19/1000\n",
            "117/117 [==============================] - 0s 119us/sample - loss: 0.4771 - acc: 0.7436 - val_loss: 0.4968 - val_acc: 0.7692\n",
            "Epoch 20/1000\n",
            "117/117 [==============================] - 0s 124us/sample - loss: 0.4720 - acc: 0.7436 - val_loss: 0.4951 - val_acc: 0.7692\n",
            "Epoch 21/1000\n",
            "117/117 [==============================] - 0s 154us/sample - loss: 0.4680 - acc: 0.7436 - val_loss: 0.4933 - val_acc: 0.7692\n",
            "Epoch 22/1000\n",
            "117/117 [==============================] - 0s 150us/sample - loss: 0.4635 - acc: 0.7436 - val_loss: 0.4919 - val_acc: 0.7692\n",
            "Epoch 23/1000\n",
            "117/117 [==============================] - 0s 146us/sample - loss: 0.4592 - acc: 0.7436 - val_loss: 0.4903 - val_acc: 0.7692\n",
            "Epoch 24/1000\n",
            "117/117 [==============================] - 0s 156us/sample - loss: 0.4549 - acc: 0.7521 - val_loss: 0.4890 - val_acc: 0.7692\n",
            "Epoch 25/1000\n",
            "117/117 [==============================] - 0s 139us/sample - loss: 0.4524 - acc: 0.7521 - val_loss: 0.4878 - val_acc: 0.7692\n",
            "Epoch 26/1000\n",
            "117/117 [==============================] - 0s 107us/sample - loss: 0.4478 - acc: 0.7778 - val_loss: 0.4863 - val_acc: 0.7692\n",
            "Epoch 27/1000\n",
            "117/117 [==============================] - 0s 153us/sample - loss: 0.4447 - acc: 0.7863 - val_loss: 0.4848 - val_acc: 0.7949\n",
            "Epoch 28/1000\n",
            "117/117 [==============================] - 0s 113us/sample - loss: 0.4413 - acc: 0.7949 - val_loss: 0.4836 - val_acc: 0.7949\n",
            "Epoch 29/1000\n",
            "117/117 [==============================] - 0s 110us/sample - loss: 0.4381 - acc: 0.8034 - val_loss: 0.4826 - val_acc: 0.7949\n",
            "Epoch 30/1000\n",
            "117/117 [==============================] - 0s 134us/sample - loss: 0.4354 - acc: 0.8034 - val_loss: 0.4816 - val_acc: 0.7949\n",
            "Epoch 31/1000\n",
            "117/117 [==============================] - 0s 141us/sample - loss: 0.4333 - acc: 0.8120 - val_loss: 0.4809 - val_acc: 0.7949\n",
            "Epoch 32/1000\n",
            "117/117 [==============================] - 0s 128us/sample - loss: 0.4308 - acc: 0.8205 - val_loss: 0.4799 - val_acc: 0.7949\n",
            "Epoch 33/1000\n",
            "117/117 [==============================] - 0s 147us/sample - loss: 0.4281 - acc: 0.8205 - val_loss: 0.4793 - val_acc: 0.7949\n",
            "Epoch 34/1000\n",
            "117/117 [==============================] - 0s 131us/sample - loss: 0.4261 - acc: 0.8205 - val_loss: 0.4788 - val_acc: 0.7949\n",
            "Epoch 35/1000\n",
            "117/117 [==============================] - 0s 106us/sample - loss: 0.4241 - acc: 0.8205 - val_loss: 0.4782 - val_acc: 0.7949\n",
            "Epoch 36/1000\n",
            "117/117 [==============================] - 0s 121us/sample - loss: 0.4221 - acc: 0.8205 - val_loss: 0.4777 - val_acc: 0.7949\n",
            "Epoch 37/1000\n",
            "117/117 [==============================] - 0s 145us/sample - loss: 0.4202 - acc: 0.8034 - val_loss: 0.4774 - val_acc: 0.8205\n",
            "Epoch 38/1000\n",
            "117/117 [==============================] - 0s 123us/sample - loss: 0.4188 - acc: 0.7863 - val_loss: 0.4770 - val_acc: 0.8205\n",
            "Epoch 39/1000\n",
            "117/117 [==============================] - 0s 129us/sample - loss: 0.4176 - acc: 0.7863 - val_loss: 0.4768 - val_acc: 0.8205\n",
            "Epoch 40/1000\n",
            "117/117 [==============================] - 0s 145us/sample - loss: 0.4157 - acc: 0.7778 - val_loss: 0.4765 - val_acc: 0.8205\n",
            "Epoch 41/1000\n",
            "117/117 [==============================] - 0s 125us/sample - loss: 0.4141 - acc: 0.7692 - val_loss: 0.4763 - val_acc: 0.8205\n",
            "Epoch 42/1000\n",
            "117/117 [==============================] - 0s 138us/sample - loss: 0.4133 - acc: 0.7692 - val_loss: 0.4762 - val_acc: 0.8205\n",
            "Epoch 43/1000\n",
            "117/117 [==============================] - 0s 148us/sample - loss: 0.4122 - acc: 0.7692 - val_loss: 0.4760 - val_acc: 0.8205\n",
            "Epoch 44/1000\n",
            "117/117 [==============================] - 0s 135us/sample - loss: 0.4108 - acc: 0.7692 - val_loss: 0.4759 - val_acc: 0.8205\n",
            "Epoch 45/1000\n",
            "117/117 [==============================] - 0s 115us/sample - loss: 0.4097 - acc: 0.7692 - val_loss: 0.4757 - val_acc: 0.8205\n",
            "Epoch 46/1000\n",
            "117/117 [==============================] - 0s 144us/sample - loss: 0.4088 - acc: 0.7692 - val_loss: 0.4757 - val_acc: 0.8205\n",
            "Epoch 47/1000\n",
            "117/117 [==============================] - 0s 111us/sample - loss: 0.4079 - acc: 0.7692 - val_loss: 0.4755 - val_acc: 0.8205\n",
            "Epoch 48/1000\n",
            "117/117 [==============================] - 0s 121us/sample - loss: 0.4068 - acc: 0.7692 - val_loss: 0.4754 - val_acc: 0.8205\n",
            "Epoch 49/1000\n",
            "117/117 [==============================] - 0s 181us/sample - loss: 0.4060 - acc: 0.7607 - val_loss: 0.4754 - val_acc: 0.8205\n",
            "Epoch 50/1000\n",
            "117/117 [==============================] - 0s 110us/sample - loss: 0.4051 - acc: 0.7607 - val_loss: 0.4754 - val_acc: 0.8205\n",
            "Epoch 51/1000\n",
            "117/117 [==============================] - 0s 105us/sample - loss: 0.4044 - acc: 0.7692 - val_loss: 0.4753 - val_acc: 0.8205\n",
            "Epoch 52/1000\n",
            "117/117 [==============================] - 0s 148us/sample - loss: 0.4034 - acc: 0.7863 - val_loss: 0.4754 - val_acc: 0.8205\n",
            "Epoch 53/1000\n",
            "117/117 [==============================] - 0s 163us/sample - loss: 0.4028 - acc: 0.7863 - val_loss: 0.4754 - val_acc: 0.8205\n",
            "Epoch 54/1000\n",
            "117/117 [==============================] - 0s 127us/sample - loss: 0.4022 - acc: 0.7863 - val_loss: 0.4755 - val_acc: 0.8205\n",
            "Epoch 55/1000\n",
            "117/117 [==============================] - 0s 167us/sample - loss: 0.4015 - acc: 0.7863 - val_loss: 0.4755 - val_acc: 0.8205\n",
            "Epoch 56/1000\n",
            "117/117 [==============================] - 0s 116us/sample - loss: 0.4006 - acc: 0.7863 - val_loss: 0.4755 - val_acc: 0.8205\n",
            "Epoch 57/1000\n",
            "117/117 [==============================] - 0s 133us/sample - loss: 0.4001 - acc: 0.7863 - val_loss: 0.4756 - val_acc: 0.8205\n",
            "Epoch 58/1000\n",
            "117/117 [==============================] - 0s 100us/sample - loss: 0.3993 - acc: 0.7863 - val_loss: 0.4757 - val_acc: 0.8205\n",
            "Epoch 59/1000\n",
            "117/117 [==============================] - 0s 109us/sample - loss: 0.3990 - acc: 0.7778 - val_loss: 0.4758 - val_acc: 0.8205\n",
            "Epoch 60/1000\n",
            "117/117 [==============================] - 0s 150us/sample - loss: 0.3980 - acc: 0.7778 - val_loss: 0.4758 - val_acc: 0.8205\n",
            "Epoch 61/1000\n",
            "117/117 [==============================] - 0s 115us/sample - loss: 0.3974 - acc: 0.7778 - val_loss: 0.4757 - val_acc: 0.8205\n",
            "Epoch 00061: early stopping\n"
          ],
          "name": "stdout"
        }
      ]
    },
    {
      "cell_type": "code",
      "metadata": {
        "colab_type": "code",
        "id": "IUREBrdMyN1e",
        "outputId": "2886ce1b-9048-4a4d-9501-c126b4042f45",
        "colab": {
          "base_uri": "https://localhost:8080/",
          "height": 51
        }
      },
      "source": [
        "model.evaluate(X_test, Y_test)"
      ],
      "execution_count": 11,
      "outputs": [
        {
          "output_type": "stream",
          "text": [
            "39/39 [==============================] - 0s 153us/sample - loss: 0.2863 - acc: 0.9231\n"
          ],
          "name": "stdout"
        },
        {
          "output_type": "execute_result",
          "data": {
            "text/plain": [
              "[0.2862705695323455, 0.9230769]"
            ]
          },
          "metadata": {
            "tags": []
          },
          "execution_count": 11
        }
      ]
    },
    {
      "cell_type": "code",
      "metadata": {
        "colab_type": "code",
        "id": "NIhFb55lBRjo",
        "outputId": "d4ecf564-2535-4d33-d41b-871fc72f8b33",
        "colab": {
          "base_uri": "https://localhost:8080/",
          "height": 282
        }
      },
      "source": [
        "plt.plot(history.history[\"loss\"])\n",
        "plt.plot(history.history[\"val_loss\"])"
      ],
      "execution_count": 12,
      "outputs": [
        {
          "output_type": "execute_result",
          "data": {
            "text/plain": [
              "[<matplotlib.lines.Line2D at 0x7fd37a5313c8>]"
            ]
          },
          "metadata": {
            "tags": []
          },
          "execution_count": 12
        },
        {
          "output_type": "display_data",
          "data": {
            "image/png": "[encoded data removed]",
            "text/plain": [
              "<Figure size 432x288 with 1 Axes>"
            ]
          },
          "metadata": {
            "tags": []
          }
        }
      ]
    },
    {
      "cell_type": "code",
      "metadata": {
        "colab_type": "code",
        "id": "0gxi9alQBmrh",
        "outputId": "27a6b15d-99e3-43fd-e338-74f61a36dd57",
        "colab": {
          "base_uri": "https://localhost:8080/",
          "height": 282
        }
      },
      "source": [
        "plt.plot(history.history[\"acc\"])\n",
        "plt.plot(history.history[\"val_acc\"])"
      ],
      "execution_count": 13,
      "outputs": [
        {
          "output_type": "execute_result",
          "data": {
            "text/plain": [
              "[<matplotlib.lines.Line2D at 0x7fd3753bcf60>]"
            ]
          },
          "metadata": {
            "tags": []
          },
          "execution_count": 13
        },
        {
          "output_type": "display_data",
          "data": {
            "image/png": "[encoded data removed]",
            "text/plain": [
              "<Figure size 432x288 with 1 Axes>"
            ]
          },
          "metadata": {
            "tags": []
          }
        }
      ]
    },
    {
      "cell_type": "code",
      "metadata": {
        "colab_type": "code",
        "id": "p19n6N6eBsgm",
        "colab": {}
      },
      "source": [
        "model.save(\"model.hdf5\")"
      ],
      "execution_count": 0,
      "outputs": []
    },
    {
      "cell_type": "code",
      "metadata": {
        "colab_type": "code",
        "id": "vyUQH7nZIPwO",
        "colab": {}
      },
      "source": [
        "from google.colab import files\n",
        "files.download('model.hdf5') "
      ],
      "execution_count": 0,
      "outputs": []
    },
    {
      "cell_type": "code",
      "metadata": {
        "colab_type": "code",
        "id": "aOq7rvyxJOHw",
        "colab": {}
      },
      "source": [
        ""
      ],
      "execution_count": 0,
      "outputs": []
    },
    {
      "cell_type": "code",
      "metadata": {
        "colab_type": "code",
        "id": "H7iTI56wJNKJ",
        "colab": {}
      },
      "source": [
        ""
      ],
      "execution_count": 0,
      "outputs": []
    },
    {
      "cell_type": "code",
      "metadata": {
        "id": "buZ72F-2IQaz",
        "colab_type": "code",
        "colab": {}
      },
      "source": [
        ""
      ],
      "execution_count": 0,
      "outputs": []
    },
    {
      "cell_type": "code",
      "metadata": {
        "id": "OA7BidMzLSIs",
        "colab_type": "code",
        "colab": {}
      },
      "source": [
        ""
      ],
      "execution_count": 0,
      "outputs": []
    }
  ]
}