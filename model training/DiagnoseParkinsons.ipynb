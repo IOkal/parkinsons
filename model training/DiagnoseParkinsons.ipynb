{
  "nbformat": 4,
  "nbformat_minor": 0,
  "metadata": {
    "colab": {
      "name": "DiagnoseParkinsons.ipynb",
      "provenance": []
    },
    "kernelspec": {
      "name": "python3",
      "display_name": "Python 3"
    }
  },
  "cells": [
    {
      "cell_type": "code",
      "metadata": {
        "id": "ASJZVmW6sDcn",
        "colab_type": "code",
        "outputId": "7606eba7-2aea-4bb5-debc-ba5d7d86e159",
        "colab": {
          "base_uri": "https://localhost:8080/",
          "height": 581
        }
      },
      "source": [
        "!pip install tensorflow\n",
        "!pip install numpy\n",
        "!pip install pandas\n",
        "!pip install sklearn"
      ],
      "execution_count": 6,
      "outputs": [
        {
          "output_type": "stream",
          "text": [
            "Requirement already satisfied: tensorflow in /usr/local/lib/python3.6/dist-packages (1.15.0)\n",
            "Requirement already satisfied: six>=1.10.0 in /usr/local/lib/python3.6/dist-packages (from tensorflow) (1.12.0)\n",
            "Requirement already satisfied: wrapt>=1.11.1 in /usr/local/lib/python3.6/dist-packages (from tensorflow) (1.11.2)\n",
            "Requirement already satisfied: opt-einsum>=2.3.2 in /usr/local/lib/python3.6/dist-packages (from tensorflow) (3.1.0)\n",
            "Requirement already satisfied: gast==0.2.2 in /usr/local/lib/python3.6/dist-packages (from tensorflow) (0.2.2)\n",
            "Requirement already satisfied: termcolor>=1.1.0 in /usr/local/lib/python3.6/dist-packages (from tensorflow) (1.1.0)\n",
            "Requirement already satisfied: keras-applications>=1.0.8 in /usr/local/lib/python3.6/dist-packages (from tensorflow) (1.0.8)\n",
            "Requirement already satisfied: tensorboard<1.16.0,>=1.15.0 in /usr/local/lib/python3.6/dist-packages (from tensorflow) (1.15.0)\n",
            "Requirement already satisfied: grpcio>=1.8.6 in /usr/local/lib/python3.6/dist-packages (from tensorflow) (1.15.0)\n",
            "Requirement already satisfied: absl-py>=0.7.0 in /usr/local/lib/python3.6/dist-packages (from tensorflow) (0.8.1)\n",
            "Requirement already satisfied: numpy<2.0,>=1.16.0 in /usr/local/lib/python3.6/dist-packages (from tensorflow) (1.17.4)\n",
            "Requirement already satisfied: astor>=0.6.0 in /usr/local/lib/python3.6/dist-packages (from tensorflow) (0.8.0)\n",
            "Requirement already satisfied: wheel>=0.26 in /usr/local/lib/python3.6/dist-packages (from tensorflow) (0.33.6)\n",
            "Requirement already satisfied: protobuf>=3.6.1 in /usr/local/lib/python3.6/dist-packages (from tensorflow) (3.10.0)\n",
            "Requirement already satisfied: google-pasta>=0.1.6 in /usr/local/lib/python3.6/dist-packages (from tensorflow) (0.1.8)\n",
            "Requirement already satisfied: keras-preprocessing>=1.0.5 in /usr/local/lib/python3.6/dist-packages (from tensorflow) (1.1.0)\n",
            "Requirement already satisfied: tensorflow-estimator==1.15.1 in /usr/local/lib/python3.6/dist-packages (from tensorflow) (1.15.1)\n",
            "Requirement already satisfied: h5py in /usr/local/lib/python3.6/dist-packages (from keras-applications>=1.0.8->tensorflow) (2.8.0)\n",
            "Requirement already satisfied: werkzeug>=0.11.15 in /usr/local/lib/python3.6/dist-packages (from tensorboard<1.16.0,>=1.15.0->tensorflow) (0.16.0)\n",
            "Requirement already satisfied: markdown>=2.6.8 in /usr/local/lib/python3.6/dist-packages (from tensorboard<1.16.0,>=1.15.0->tensorflow) (3.1.1)\n",
            "Requirement already satisfied: setuptools>=41.0.0 in /usr/local/lib/python3.6/dist-packages (from tensorboard<1.16.0,>=1.15.0->tensorflow) (41.6.0)\n",
            "Requirement already satisfied: numpy in /usr/local/lib/python3.6/dist-packages (1.17.4)\n",
            "Requirement already satisfied: pandas in /usr/local/lib/python3.6/dist-packages (0.25.3)\n",
            "Requirement already satisfied: pytz>=2017.2 in /usr/local/lib/python3.6/dist-packages (from pandas) (2018.9)\n",
            "Requirement already satisfied: numpy>=1.13.3 in /usr/local/lib/python3.6/dist-packages (from pandas) (1.17.4)\n",
            "Requirement already satisfied: python-dateutil>=2.6.1 in /usr/local/lib/python3.6/dist-packages (from pandas) (2.6.1)\n",
            "Requirement already satisfied: six>=1.5 in /usr/local/lib/python3.6/dist-packages (from python-dateutil>=2.6.1->pandas) (1.12.0)\n",
            "Requirement already satisfied: sklearn in /usr/local/lib/python3.6/dist-packages (0.0)\n",
            "Requirement already satisfied: scikit-learn in /usr/local/lib/python3.6/dist-packages (from sklearn) (0.21.3)\n",
            "Requirement already satisfied: numpy>=1.11.0 in /usr/local/lib/python3.6/dist-packages (from scikit-learn->sklearn) (1.17.4)\n",
            "Requirement already satisfied: scipy>=0.17.0 in /usr/local/lib/python3.6/dist-packages (from scikit-learn->sklearn) (1.3.2)\n",
            "Requirement already satisfied: joblib>=0.11 in /usr/local/lib/python3.6/dist-packages (from scikit-learn->sklearn) (0.14.0)\n"
          ],
          "name": "stdout"
        }
      ]
    },
    {
      "cell_type": "code",
      "metadata": {
        "id": "eaWmRbeqsLv2",
        "colab_type": "code",
        "colab": {}
      },
      "source": [
        "from tensorflow.keras.models import Sequential\n",
        "from tensorflow.keras.layers import Dense, Dropout, Input\n",
        "from tensorflow.keras.models import Sequential\n",
        "from tensorflow.keras.callbacks import EarlyStopping\n",
        "import pandas as pd\n",
        "from sklearn.preprocessing import MinMaxScaler\n",
        "from sklearn.model_selection import train_test_split\n",
        "import matplotlib.pyplot as plt"
      ],
      "execution_count": 0,
      "outputs": []
    },
    {
      "cell_type": "code",
      "metadata": {
        "id": "_0P1cKSQsBvI",
        "colab_type": "code",
        "colab": {}
      },
      "source": [
        "def create_model():\n",
        "  # Create a multilayer perceptron\n",
        "  model = Sequential()\n",
        "  model.add(Input((22,)))\n",
        "  model.add(Dense(100, activation='relu'))\n",
        "  model.add(Dense(1, activation='sigmoid'))\n",
        "  model.compile(loss=\"binary_crossentropy\", optimizer=\"adam\", metrics=[\"accuracy\"])\n",
        "  return model"
      ],
      "execution_count": 0,
      "outputs": []
    },
    {
      "cell_type": "code",
      "metadata": {
        "id": "nFjMTkI1uZeP",
        "colab_type": "code",
        "colab": {}
      },
      "source": [
        "df = pd.read_csv(\"data.csv\")\n",
        "labels = df[\"status\"]\n",
        "df = df.drop(columns=\"status\")\n",
        "df[df.columns] = MinMaxScaler(feature_range=(0,1)).fit_transform(df[df.columns])"
      ],
      "execution_count": 0,
      "outputs": []
    },
    {
      "cell_type": "code",
      "metadata": {
        "id": "SBvjiZ_RwWxy",
        "colab_type": "code",
        "colab": {}
      },
      "source": [
        "seed = 1337\n",
        "X_train, X_test, Y_train, Y_test = train_test_split(df, labels, test_size=0.2, random_state=seed)\n",
        "X_train, X_validation, Y_train, Y_validation = train_test_split(X_train, Y_train, test_size=0.25, random_state=seed)"
      ],
      "execution_count": 0,
      "outputs": []
    },
    {
      "cell_type": "code",
      "metadata": {
        "id": "BrFrVylhx-Pp",
        "colab_type": "code",
        "outputId": "dc94285a-7ac5-4638-ea02-53d2b78dd502",
        "colab": {
          "base_uri": "https://localhost:8080/",
          "height": 1000
        }
      },
      "source": [
        "model = create_model()\n",
        "early_stopping = EarlyStopping(monitor='val_loss', mode='min', verbose=1, patience=10)\n",
        "history = model.fit(X_train, Y_train, validation_data=(X_validation, Y_validation), epochs=1000, callbacks=[early_stopping])"
      ],
      "execution_count": 11,
      "outputs": [
        {
          "output_type": "stream",
          "text": [
            "WARNING:tensorflow:From /usr/local/lib/python3.6/dist-packages/tensorflow_core/python/ops/resource_variable_ops.py:1630: calling BaseResourceVariable.__init__ (from tensorflow.python.ops.resource_variable_ops) with constraint is deprecated and will be removed in a future version.\n",
            "Instructions for updating:\n",
            "If using Keras pass *_constraint arguments to layers.\n",
            "WARNING:tensorflow:From /usr/local/lib/python3.6/dist-packages/tensorflow_core/python/ops/nn_impl.py:183: where (from tensorflow.python.ops.array_ops) is deprecated and will be removed in a future version.\n",
            "Instructions for updating:\n",
            "Use tf.where in 2.0, which has the same broadcast rule as np.where\n",
            "Train on 117 samples, validate on 39 samples\n",
            "Epoch 1/1000\n",
            "117/117 [==============================] - 0s 3ms/sample - loss: 0.6382 - acc: 0.7350 - val_loss: 0.5933 - val_acc: 0.7692\n",
            "Epoch 2/1000\n",
            "117/117 [==============================] - 0s 128us/sample - loss: 0.5908 - acc: 0.7436 - val_loss: 0.5560 - val_acc: 0.7692\n",
            "Epoch 3/1000\n",
            "117/117 [==============================] - 0s 117us/sample - loss: 0.5537 - acc: 0.7436 - val_loss: 0.5286 - val_acc: 0.7692\n",
            "Epoch 4/1000\n",
            "117/117 [==============================] - 0s 112us/sample - loss: 0.5272 - acc: 0.7436 - val_loss: 0.5089 - val_acc: 0.7692\n",
            "Epoch 5/1000\n",
            "117/117 [==============================] - 0s 121us/sample - loss: 0.5086 - acc: 0.7436 - val_loss: 0.4951 - val_acc: 0.7692\n",
            "Epoch 6/1000\n",
            "117/117 [==============================] - 0s 114us/sample - loss: 0.4938 - acc: 0.7436 - val_loss: 0.4864 - val_acc: 0.7692\n",
            "Epoch 7/1000\n",
            "117/117 [==============================] - 0s 114us/sample - loss: 0.4830 - acc: 0.7436 - val_loss: 0.4807 - val_acc: 0.7692\n",
            "Epoch 8/1000\n",
            "117/117 [==============================] - 0s 120us/sample - loss: 0.4758 - acc: 0.7436 - val_loss: 0.4768 - val_acc: 0.7692\n",
            "Epoch 9/1000\n",
            "117/117 [==============================] - 0s 108us/sample - loss: 0.4680 - acc: 0.7436 - val_loss: 0.4742 - val_acc: 0.7692\n",
            "Epoch 10/1000\n",
            "117/117 [==============================] - 0s 127us/sample - loss: 0.4617 - acc: 0.7436 - val_loss: 0.4720 - val_acc: 0.7692\n",
            "Epoch 11/1000\n",
            "117/117 [==============================] - 0s 94us/sample - loss: 0.4562 - acc: 0.7436 - val_loss: 0.4692 - val_acc: 0.7692\n",
            "Epoch 12/1000\n",
            "117/117 [==============================] - 0s 135us/sample - loss: 0.4495 - acc: 0.7436 - val_loss: 0.4667 - val_acc: 0.7692\n",
            "Epoch 13/1000\n",
            "117/117 [==============================] - 0s 110us/sample - loss: 0.4439 - acc: 0.7436 - val_loss: 0.4642 - val_acc: 0.7692\n",
            "Epoch 14/1000\n",
            "117/117 [==============================] - 0s 133us/sample - loss: 0.4387 - acc: 0.7521 - val_loss: 0.4620 - val_acc: 0.7692\n",
            "Epoch 15/1000\n",
            "117/117 [==============================] - 0s 143us/sample - loss: 0.4332 - acc: 0.7521 - val_loss: 0.4597 - val_acc: 0.7692\n",
            "Epoch 16/1000\n",
            "117/117 [==============================] - 0s 115us/sample - loss: 0.4281 - acc: 0.7863 - val_loss: 0.4575 - val_acc: 0.7949\n",
            "Epoch 17/1000\n",
            "117/117 [==============================] - 0s 122us/sample - loss: 0.4232 - acc: 0.7949 - val_loss: 0.4555 - val_acc: 0.8205\n",
            "Epoch 18/1000\n",
            "117/117 [==============================] - 0s 121us/sample - loss: 0.4194 - acc: 0.8034 - val_loss: 0.4535 - val_acc: 0.8205\n",
            "Epoch 19/1000\n",
            "117/117 [==============================] - 0s 104us/sample - loss: 0.4158 - acc: 0.8205 - val_loss: 0.4517 - val_acc: 0.8205\n",
            "Epoch 20/1000\n",
            "117/117 [==============================] - 0s 106us/sample - loss: 0.4113 - acc: 0.8205 - val_loss: 0.4501 - val_acc: 0.8205\n",
            "Epoch 21/1000\n",
            "117/117 [==============================] - 0s 119us/sample - loss: 0.4068 - acc: 0.8205 - val_loss: 0.4485 - val_acc: 0.8205\n",
            "Epoch 22/1000\n",
            "117/117 [==============================] - 0s 131us/sample - loss: 0.4035 - acc: 0.8205 - val_loss: 0.4472 - val_acc: 0.8205\n",
            "Epoch 23/1000\n",
            "117/117 [==============================] - 0s 120us/sample - loss: 0.4000 - acc: 0.8120 - val_loss: 0.4459 - val_acc: 0.8205\n",
            "Epoch 24/1000\n",
            "117/117 [==============================] - 0s 100us/sample - loss: 0.3966 - acc: 0.8205 - val_loss: 0.4447 - val_acc: 0.8205\n",
            "Epoch 25/1000\n",
            "117/117 [==============================] - 0s 110us/sample - loss: 0.3937 - acc: 0.8291 - val_loss: 0.4436 - val_acc: 0.8205\n",
            "Epoch 26/1000\n",
            "117/117 [==============================] - 0s 117us/sample - loss: 0.3906 - acc: 0.8291 - val_loss: 0.4422 - val_acc: 0.8205\n",
            "Epoch 27/1000\n",
            "117/117 [==============================] - 0s 125us/sample - loss: 0.3875 - acc: 0.8205 - val_loss: 0.4409 - val_acc: 0.8205\n",
            "Epoch 28/1000\n",
            "117/117 [==============================] - 0s 106us/sample - loss: 0.3844 - acc: 0.8205 - val_loss: 0.4398 - val_acc: 0.8205\n",
            "Epoch 29/1000\n",
            "117/117 [==============================] - 0s 108us/sample - loss: 0.3816 - acc: 0.8205 - val_loss: 0.4390 - val_acc: 0.8205\n",
            "Epoch 30/1000\n",
            "117/117 [==============================] - 0s 101us/sample - loss: 0.3793 - acc: 0.8120 - val_loss: 0.4376 - val_acc: 0.8205\n",
            "Epoch 31/1000\n",
            "117/117 [==============================] - 0s 114us/sample - loss: 0.3763 - acc: 0.8120 - val_loss: 0.4366 - val_acc: 0.8205\n",
            "Epoch 32/1000\n",
            "117/117 [==============================] - 0s 119us/sample - loss: 0.3740 - acc: 0.8120 - val_loss: 0.4358 - val_acc: 0.8205\n",
            "Epoch 33/1000\n",
            "117/117 [==============================] - 0s 154us/sample - loss: 0.3716 - acc: 0.8120 - val_loss: 0.4355 - val_acc: 0.8205\n",
            "Epoch 34/1000\n",
            "117/117 [==============================] - 0s 158us/sample - loss: 0.3690 - acc: 0.8120 - val_loss: 0.4348 - val_acc: 0.8205\n",
            "Epoch 35/1000\n",
            "117/117 [==============================] - 0s 124us/sample - loss: 0.3668 - acc: 0.8120 - val_loss: 0.4338 - val_acc: 0.8205\n",
            "Epoch 36/1000\n",
            "117/117 [==============================] - 0s 112us/sample - loss: 0.3645 - acc: 0.7949 - val_loss: 0.4323 - val_acc: 0.8205\n",
            "Epoch 37/1000\n",
            "117/117 [==============================] - 0s 131us/sample - loss: 0.3625 - acc: 0.7863 - val_loss: 0.4310 - val_acc: 0.8205\n",
            "Epoch 38/1000\n",
            "117/117 [==============================] - 0s 152us/sample - loss: 0.3610 - acc: 0.7949 - val_loss: 0.4298 - val_acc: 0.8205\n",
            "Epoch 39/1000\n",
            "117/117 [==============================] - 0s 139us/sample - loss: 0.3586 - acc: 0.7949 - val_loss: 0.4291 - val_acc: 0.8205\n",
            "Epoch 40/1000\n",
            "117/117 [==============================] - 0s 103us/sample - loss: 0.3564 - acc: 0.7949 - val_loss: 0.4289 - val_acc: 0.8205\n",
            "Epoch 41/1000\n",
            "117/117 [==============================] - 0s 101us/sample - loss: 0.3544 - acc: 0.7949 - val_loss: 0.4283 - val_acc: 0.8205\n",
            "Epoch 42/1000\n",
            "117/117 [==============================] - 0s 105us/sample - loss: 0.3522 - acc: 0.8120 - val_loss: 0.4276 - val_acc: 0.8205\n",
            "Epoch 43/1000\n",
            "117/117 [==============================] - 0s 128us/sample - loss: 0.3507 - acc: 0.8205 - val_loss: 0.4274 - val_acc: 0.8205\n",
            "Epoch 44/1000\n",
            "117/117 [==============================] - 0s 114us/sample - loss: 0.3483 - acc: 0.8205 - val_loss: 0.4261 - val_acc: 0.8205\n",
            "Epoch 45/1000\n",
            "117/117 [==============================] - 0s 90us/sample - loss: 0.3470 - acc: 0.8034 - val_loss: 0.4249 - val_acc: 0.8205\n",
            "Epoch 46/1000\n",
            "117/117 [==============================] - 0s 115us/sample - loss: 0.3448 - acc: 0.8120 - val_loss: 0.4243 - val_acc: 0.8205\n",
            "Epoch 47/1000\n",
            "117/117 [==============================] - 0s 103us/sample - loss: 0.3429 - acc: 0.8205 - val_loss: 0.4243 - val_acc: 0.8205\n",
            "Epoch 48/1000\n",
            "117/117 [==============================] - 0s 119us/sample - loss: 0.3410 - acc: 0.8205 - val_loss: 0.4233 - val_acc: 0.8205\n",
            "Epoch 49/1000\n",
            "117/117 [==============================] - 0s 114us/sample - loss: 0.3391 - acc: 0.8205 - val_loss: 0.4225 - val_acc: 0.8205\n",
            "Epoch 50/1000\n",
            "117/117 [==============================] - 0s 135us/sample - loss: 0.3373 - acc: 0.8205 - val_loss: 0.4215 - val_acc: 0.8205\n",
            "Epoch 51/1000\n",
            "117/117 [==============================] - 0s 155us/sample - loss: 0.3356 - acc: 0.8291 - val_loss: 0.4201 - val_acc: 0.8205\n",
            "Epoch 52/1000\n",
            "117/117 [==============================] - 0s 125us/sample - loss: 0.3339 - acc: 0.8205 - val_loss: 0.4194 - val_acc: 0.8205\n",
            "Epoch 53/1000\n",
            "117/117 [==============================] - 0s 111us/sample - loss: 0.3321 - acc: 0.8291 - val_loss: 0.4194 - val_acc: 0.8205\n",
            "Epoch 54/1000\n",
            "117/117 [==============================] - 0s 109us/sample - loss: 0.3305 - acc: 0.8462 - val_loss: 0.4188 - val_acc: 0.8205\n",
            "Epoch 55/1000\n",
            "117/117 [==============================] - 0s 129us/sample - loss: 0.3288 - acc: 0.8462 - val_loss: 0.4169 - val_acc: 0.8205\n",
            "Epoch 56/1000\n",
            "117/117 [==============================] - 0s 126us/sample - loss: 0.3269 - acc: 0.8462 - val_loss: 0.4162 - val_acc: 0.8205\n",
            "Epoch 57/1000\n",
            "117/117 [==============================] - 0s 112us/sample - loss: 0.3246 - acc: 0.8462 - val_loss: 0.4164 - val_acc: 0.8205\n",
            "Epoch 58/1000\n",
            "117/117 [==============================] - 0s 106us/sample - loss: 0.3240 - acc: 0.8462 - val_loss: 0.4172 - val_acc: 0.8205\n",
            "Epoch 59/1000\n",
            "117/117 [==============================] - 0s 119us/sample - loss: 0.3217 - acc: 0.8462 - val_loss: 0.4150 - val_acc: 0.8205\n",
            "Epoch 60/1000\n",
            "117/117 [==============================] - 0s 118us/sample - loss: 0.3197 - acc: 0.8462 - val_loss: 0.4140 - val_acc: 0.8205\n",
            "Epoch 61/1000\n",
            "117/117 [==============================] - 0s 120us/sample - loss: 0.3181 - acc: 0.8462 - val_loss: 0.4119 - val_acc: 0.8205\n",
            "Epoch 62/1000\n",
            "117/117 [==============================] - 0s 109us/sample - loss: 0.3165 - acc: 0.8462 - val_loss: 0.4106 - val_acc: 0.8205\n",
            "Epoch 63/1000\n",
            "117/117 [==============================] - 0s 115us/sample - loss: 0.3144 - acc: 0.8462 - val_loss: 0.4102 - val_acc: 0.8205\n",
            "Epoch 64/1000\n",
            "117/117 [==============================] - 0s 105us/sample - loss: 0.3129 - acc: 0.8462 - val_loss: 0.4103 - val_acc: 0.8205\n",
            "Epoch 65/1000\n",
            "117/117 [==============================] - 0s 121us/sample - loss: 0.3116 - acc: 0.8462 - val_loss: 0.4098 - val_acc: 0.8205\n",
            "Epoch 66/1000\n",
            "117/117 [==============================] - 0s 147us/sample - loss: 0.3102 - acc: 0.8547 - val_loss: 0.4099 - val_acc: 0.8205\n",
            "Epoch 67/1000\n",
            "117/117 [==============================] - 0s 109us/sample - loss: 0.3086 - acc: 0.8547 - val_loss: 0.4087 - val_acc: 0.8205\n",
            "Epoch 68/1000\n",
            "117/117 [==============================] - 0s 123us/sample - loss: 0.3071 - acc: 0.8632 - val_loss: 0.4071 - val_acc: 0.8205\n",
            "Epoch 69/1000\n",
            "117/117 [==============================] - 0s 159us/sample - loss: 0.3060 - acc: 0.8547 - val_loss: 0.4061 - val_acc: 0.8205\n",
            "Epoch 70/1000\n",
            "117/117 [==============================] - 0s 101us/sample - loss: 0.3045 - acc: 0.8632 - val_loss: 0.4068 - val_acc: 0.8205\n",
            "Epoch 71/1000\n",
            "117/117 [==============================] - 0s 97us/sample - loss: 0.3029 - acc: 0.8632 - val_loss: 0.4058 - val_acc: 0.8205\n",
            "Epoch 72/1000\n",
            "117/117 [==============================] - 0s 123us/sample - loss: 0.3015 - acc: 0.8632 - val_loss: 0.4055 - val_acc: 0.8205\n",
            "Epoch 73/1000\n",
            "117/117 [==============================] - 0s 174us/sample - loss: 0.2999 - acc: 0.8718 - val_loss: 0.4061 - val_acc: 0.8205\n",
            "Epoch 74/1000\n",
            "117/117 [==============================] - 0s 100us/sample - loss: 0.2990 - acc: 0.8803 - val_loss: 0.4068 - val_acc: 0.8205\n",
            "Epoch 75/1000\n",
            "117/117 [==============================] - 0s 101us/sample - loss: 0.2974 - acc: 0.8803 - val_loss: 0.4049 - val_acc: 0.8205\n",
            "Epoch 76/1000\n",
            "117/117 [==============================] - 0s 101us/sample - loss: 0.2958 - acc: 0.8718 - val_loss: 0.4029 - val_acc: 0.8205\n",
            "Epoch 77/1000\n",
            "117/117 [==============================] - 0s 105us/sample - loss: 0.2943 - acc: 0.8718 - val_loss: 0.4012 - val_acc: 0.8205\n",
            "Epoch 78/1000\n",
            "117/117 [==============================] - 0s 110us/sample - loss: 0.2933 - acc: 0.8718 - val_loss: 0.4001 - val_acc: 0.8205\n",
            "Epoch 79/1000\n",
            "117/117 [==============================] - 0s 95us/sample - loss: 0.2920 - acc: 0.8718 - val_loss: 0.3999 - val_acc: 0.8205\n",
            "Epoch 80/1000\n",
            "117/117 [==============================] - 0s 97us/sample - loss: 0.2905 - acc: 0.8803 - val_loss: 0.3986 - val_acc: 0.8205\n",
            "Epoch 81/1000\n",
            "117/117 [==============================] - 0s 106us/sample - loss: 0.2893 - acc: 0.8803 - val_loss: 0.3984 - val_acc: 0.8205\n",
            "Epoch 82/1000\n",
            "117/117 [==============================] - 0s 135us/sample - loss: 0.2884 - acc: 0.8803 - val_loss: 0.3968 - val_acc: 0.8205\n",
            "Epoch 83/1000\n",
            "117/117 [==============================] - 0s 168us/sample - loss: 0.2872 - acc: 0.8889 - val_loss: 0.3966 - val_acc: 0.8205\n",
            "Epoch 84/1000\n",
            "117/117 [==============================] - 0s 135us/sample - loss: 0.2865 - acc: 0.8889 - val_loss: 0.3956 - val_acc: 0.7949\n",
            "Epoch 85/1000\n",
            "117/117 [==============================] - 0s 139us/sample - loss: 0.2844 - acc: 0.8889 - val_loss: 0.3961 - val_acc: 0.8205\n",
            "Epoch 86/1000\n",
            "117/117 [==============================] - 0s 118us/sample - loss: 0.2829 - acc: 0.8889 - val_loss: 0.3966 - val_acc: 0.8205\n",
            "Epoch 87/1000\n",
            "117/117 [==============================] - 0s 119us/sample - loss: 0.2816 - acc: 0.8974 - val_loss: 0.3972 - val_acc: 0.8205\n",
            "Epoch 88/1000\n",
            "117/117 [==============================] - 0s 109us/sample - loss: 0.2805 - acc: 0.8974 - val_loss: 0.3967 - val_acc: 0.8205\n",
            "Epoch 89/1000\n",
            "117/117 [==============================] - 0s 140us/sample - loss: 0.2797 - acc: 0.8974 - val_loss: 0.3971 - val_acc: 0.8205\n",
            "Epoch 90/1000\n",
            "117/117 [==============================] - 0s 157us/sample - loss: 0.2781 - acc: 0.8974 - val_loss: 0.3951 - val_acc: 0.8205\n",
            "Epoch 91/1000\n",
            "117/117 [==============================] - 0s 124us/sample - loss: 0.2770 - acc: 0.8974 - val_loss: 0.3939 - val_acc: 0.8205\n",
            "Epoch 92/1000\n",
            "117/117 [==============================] - 0s 116us/sample - loss: 0.2759 - acc: 0.8974 - val_loss: 0.3948 - val_acc: 0.8205\n",
            "Epoch 93/1000\n",
            "117/117 [==============================] - 0s 119us/sample - loss: 0.2744 - acc: 0.8974 - val_loss: 0.3945 - val_acc: 0.8205\n",
            "Epoch 94/1000\n",
            "117/117 [==============================] - 0s 115us/sample - loss: 0.2730 - acc: 0.8974 - val_loss: 0.3934 - val_acc: 0.8205\n",
            "Epoch 95/1000\n",
            "117/117 [==============================] - 0s 118us/sample - loss: 0.2722 - acc: 0.8974 - val_loss: 0.3934 - val_acc: 0.8205\n",
            "Epoch 96/1000\n",
            "117/117 [==============================] - 0s 115us/sample - loss: 0.2708 - acc: 0.8974 - val_loss: 0.3921 - val_acc: 0.8205\n",
            "Epoch 97/1000\n",
            "117/117 [==============================] - 0s 120us/sample - loss: 0.2695 - acc: 0.8974 - val_loss: 0.3921 - val_acc: 0.8205\n",
            "Epoch 98/1000\n",
            "117/117 [==============================] - 0s 138us/sample - loss: 0.2682 - acc: 0.8974 - val_loss: 0.3914 - val_acc: 0.8205\n",
            "Epoch 99/1000\n",
            "117/117 [==============================] - 0s 124us/sample - loss: 0.2672 - acc: 0.8974 - val_loss: 0.3898 - val_acc: 0.7949\n",
            "Epoch 100/1000\n",
            "117/117 [==============================] - 0s 143us/sample - loss: 0.2659 - acc: 0.8974 - val_loss: 0.3894 - val_acc: 0.8205\n",
            "Epoch 101/1000\n",
            "117/117 [==============================] - 0s 122us/sample - loss: 0.2659 - acc: 0.8974 - val_loss: 0.3910 - val_acc: 0.8205\n",
            "Epoch 102/1000\n",
            "117/117 [==============================] - 0s 185us/sample - loss: 0.2637 - acc: 0.8974 - val_loss: 0.3903 - val_acc: 0.8205\n",
            "Epoch 103/1000\n",
            "117/117 [==============================] - 0s 151us/sample - loss: 0.2628 - acc: 0.8974 - val_loss: 0.3881 - val_acc: 0.7949\n",
            "Epoch 104/1000\n",
            "117/117 [==============================] - 0s 116us/sample - loss: 0.2618 - acc: 0.8974 - val_loss: 0.3887 - val_acc: 0.8205\n",
            "Epoch 105/1000\n",
            "117/117 [==============================] - 0s 120us/sample - loss: 0.2605 - acc: 0.8974 - val_loss: 0.3873 - val_acc: 0.7949\n",
            "Epoch 106/1000\n",
            "117/117 [==============================] - 0s 115us/sample - loss: 0.2593 - acc: 0.8974 - val_loss: 0.3884 - val_acc: 0.8205\n",
            "Epoch 107/1000\n",
            "117/117 [==============================] - 0s 143us/sample - loss: 0.2581 - acc: 0.8974 - val_loss: 0.3874 - val_acc: 0.8205\n",
            "Epoch 108/1000\n",
            "117/117 [==============================] - 0s 131us/sample - loss: 0.2573 - acc: 0.8974 - val_loss: 0.3875 - val_acc: 0.8205\n",
            "Epoch 109/1000\n",
            "117/117 [==============================] - 0s 150us/sample - loss: 0.2557 - acc: 0.8974 - val_loss: 0.3853 - val_acc: 0.7949\n",
            "Epoch 110/1000\n",
            "117/117 [==============================] - 0s 131us/sample - loss: 0.2549 - acc: 0.8974 - val_loss: 0.3844 - val_acc: 0.7949\n",
            "Epoch 111/1000\n",
            "117/117 [==============================] - 0s 143us/sample - loss: 0.2540 - acc: 0.8974 - val_loss: 0.3846 - val_acc: 0.7949\n",
            "Epoch 112/1000\n",
            "117/117 [==============================] - 0s 189us/sample - loss: 0.2530 - acc: 0.8974 - val_loss: 0.3863 - val_acc: 0.7949\n",
            "Epoch 113/1000\n",
            "117/117 [==============================] - 0s 115us/sample - loss: 0.2519 - acc: 0.8974 - val_loss: 0.3847 - val_acc: 0.7949\n",
            "Epoch 114/1000\n",
            "117/117 [==============================] - 0s 120us/sample - loss: 0.2505 - acc: 0.8974 - val_loss: 0.3848 - val_acc: 0.7949\n",
            "Epoch 115/1000\n",
            "117/117 [==============================] - 0s 135us/sample - loss: 0.2493 - acc: 0.8974 - val_loss: 0.3856 - val_acc: 0.8205\n",
            "Epoch 116/1000\n",
            "117/117 [==============================] - 0s 161us/sample - loss: 0.2484 - acc: 0.8974 - val_loss: 0.3850 - val_acc: 0.8205\n",
            "Epoch 117/1000\n",
            "117/117 [==============================] - 0s 137us/sample - loss: 0.2477 - acc: 0.8974 - val_loss: 0.3828 - val_acc: 0.7949\n",
            "Epoch 118/1000\n",
            "117/117 [==============================] - 0s 164us/sample - loss: 0.2465 - acc: 0.9060 - val_loss: 0.3826 - val_acc: 0.7949\n",
            "Epoch 119/1000\n",
            "117/117 [==============================] - 0s 177us/sample - loss: 0.2455 - acc: 0.8974 - val_loss: 0.3820 - val_acc: 0.8205\n",
            "Epoch 120/1000\n",
            "117/117 [==============================] - 0s 150us/sample - loss: 0.2443 - acc: 0.9060 - val_loss: 0.3834 - val_acc: 0.7949\n",
            "Epoch 121/1000\n",
            "117/117 [==============================] - 0s 129us/sample - loss: 0.2434 - acc: 0.9060 - val_loss: 0.3849 - val_acc: 0.8205\n",
            "Epoch 122/1000\n",
            "117/117 [==============================] - 0s 114us/sample - loss: 0.2425 - acc: 0.9060 - val_loss: 0.3840 - val_acc: 0.8462\n",
            "Epoch 123/1000\n",
            "117/117 [==============================] - 0s 114us/sample - loss: 0.2414 - acc: 0.9060 - val_loss: 0.3820 - val_acc: 0.8205\n",
            "Epoch 124/1000\n",
            "117/117 [==============================] - 0s 105us/sample - loss: 0.2402 - acc: 0.9060 - val_loss: 0.3808 - val_acc: 0.8205\n",
            "Epoch 125/1000\n",
            "117/117 [==============================] - 0s 122us/sample - loss: 0.2395 - acc: 0.9060 - val_loss: 0.3795 - val_acc: 0.8205\n",
            "Epoch 126/1000\n",
            "117/117 [==============================] - 0s 121us/sample - loss: 0.2386 - acc: 0.9060 - val_loss: 0.3809 - val_acc: 0.8205\n",
            "Epoch 127/1000\n",
            "117/117 [==============================] - 0s 121us/sample - loss: 0.2374 - acc: 0.9060 - val_loss: 0.3810 - val_acc: 0.8205\n",
            "Epoch 128/1000\n",
            "117/117 [==============================] - 0s 117us/sample - loss: 0.2364 - acc: 0.9060 - val_loss: 0.3794 - val_acc: 0.8205\n",
            "Epoch 129/1000\n",
            "117/117 [==============================] - 0s 137us/sample - loss: 0.2353 - acc: 0.9060 - val_loss: 0.3778 - val_acc: 0.8205\n",
            "Epoch 130/1000\n",
            "117/117 [==============================] - 0s 124us/sample - loss: 0.2345 - acc: 0.9060 - val_loss: 0.3772 - val_acc: 0.8205\n",
            "Epoch 131/1000\n",
            "117/117 [==============================] - 0s 102us/sample - loss: 0.2336 - acc: 0.9060 - val_loss: 0.3773 - val_acc: 0.8205\n",
            "Epoch 132/1000\n",
            "117/117 [==============================] - 0s 109us/sample - loss: 0.2329 - acc: 0.9060 - val_loss: 0.3807 - val_acc: 0.8205\n",
            "Epoch 133/1000\n",
            "117/117 [==============================] - 0s 115us/sample - loss: 0.2317 - acc: 0.9060 - val_loss: 0.3817 - val_acc: 0.8205\n",
            "Epoch 134/1000\n",
            "117/117 [==============================] - 0s 123us/sample - loss: 0.2307 - acc: 0.9060 - val_loss: 0.3796 - val_acc: 0.8205\n",
            "Epoch 135/1000\n",
            "117/117 [==============================] - 0s 131us/sample - loss: 0.2296 - acc: 0.9060 - val_loss: 0.3771 - val_acc: 0.8205\n",
            "Epoch 136/1000\n",
            "117/117 [==============================] - 0s 108us/sample - loss: 0.2288 - acc: 0.9060 - val_loss: 0.3756 - val_acc: 0.8205\n",
            "Epoch 137/1000\n",
            "117/117 [==============================] - 0s 126us/sample - loss: 0.2280 - acc: 0.8974 - val_loss: 0.3757 - val_acc: 0.8205\n",
            "Epoch 138/1000\n",
            "117/117 [==============================] - 0s 123us/sample - loss: 0.2268 - acc: 0.9060 - val_loss: 0.3768 - val_acc: 0.8205\n",
            "Epoch 139/1000\n",
            "117/117 [==============================] - 0s 111us/sample - loss: 0.2261 - acc: 0.9060 - val_loss: 0.3787 - val_acc: 0.8205\n",
            "Epoch 140/1000\n",
            "117/117 [==============================] - 0s 122us/sample - loss: 0.2251 - acc: 0.9060 - val_loss: 0.3787 - val_acc: 0.8205\n",
            "Epoch 141/1000\n",
            "117/117 [==============================] - 0s 110us/sample - loss: 0.2250 - acc: 0.9060 - val_loss: 0.3817 - val_acc: 0.8462\n",
            "Epoch 142/1000\n",
            "117/117 [==============================] - 0s 104us/sample - loss: 0.2235 - acc: 0.9060 - val_loss: 0.3787 - val_acc: 0.8205\n",
            "Epoch 143/1000\n",
            "117/117 [==============================] - 0s 106us/sample - loss: 0.2226 - acc: 0.9060 - val_loss: 0.3753 - val_acc: 0.8205\n",
            "Epoch 144/1000\n",
            "117/117 [==============================] - 0s 123us/sample - loss: 0.2216 - acc: 0.9231 - val_loss: 0.3743 - val_acc: 0.8205\n",
            "Epoch 145/1000\n",
            "117/117 [==============================] - 0s 132us/sample - loss: 0.2205 - acc: 0.9145 - val_loss: 0.3756 - val_acc: 0.8205\n",
            "Epoch 146/1000\n",
            "117/117 [==============================] - 0s 98us/sample - loss: 0.2198 - acc: 0.9145 - val_loss: 0.3760 - val_acc: 0.8205\n",
            "Epoch 147/1000\n",
            "117/117 [==============================] - 0s 117us/sample - loss: 0.2191 - acc: 0.9145 - val_loss: 0.3755 - val_acc: 0.8205\n",
            "Epoch 148/1000\n",
            "117/117 [==============================] - 0s 104us/sample - loss: 0.2181 - acc: 0.9231 - val_loss: 0.3745 - val_acc: 0.8205\n",
            "Epoch 149/1000\n",
            "117/117 [==============================] - 0s 123us/sample - loss: 0.2176 - acc: 0.9145 - val_loss: 0.3729 - val_acc: 0.8205\n",
            "Epoch 150/1000\n",
            "117/117 [==============================] - 0s 97us/sample - loss: 0.2179 - acc: 0.9231 - val_loss: 0.3762 - val_acc: 0.8205\n",
            "Epoch 151/1000\n",
            "117/117 [==============================] - 0s 115us/sample - loss: 0.2166 - acc: 0.9145 - val_loss: 0.3732 - val_acc: 0.8205\n",
            "Epoch 152/1000\n",
            "117/117 [==============================] - 0s 137us/sample - loss: 0.2142 - acc: 0.9145 - val_loss: 0.3750 - val_acc: 0.8205\n",
            "Epoch 153/1000\n",
            "117/117 [==============================] - 0s 158us/sample - loss: 0.2138 - acc: 0.9145 - val_loss: 0.3777 - val_acc: 0.8205\n",
            "Epoch 154/1000\n",
            "117/117 [==============================] - 0s 116us/sample - loss: 0.2133 - acc: 0.9231 - val_loss: 0.3781 - val_acc: 0.8205\n",
            "Epoch 155/1000\n",
            "117/117 [==============================] - 0s 128us/sample - loss: 0.2120 - acc: 0.9231 - val_loss: 0.3756 - val_acc: 0.8205\n",
            "Epoch 156/1000\n",
            "117/117 [==============================] - 0s 119us/sample - loss: 0.2114 - acc: 0.9145 - val_loss: 0.3710 - val_acc: 0.8205\n",
            "Epoch 157/1000\n",
            "117/117 [==============================] - 0s 121us/sample - loss: 0.2103 - acc: 0.9145 - val_loss: 0.3684 - val_acc: 0.8205\n",
            "Epoch 158/1000\n",
            "117/117 [==============================] - 0s 128us/sample - loss: 0.2110 - acc: 0.9145 - val_loss: 0.3670 - val_acc: 0.8462\n",
            "Epoch 159/1000\n",
            "117/117 [==============================] - 0s 173us/sample - loss: 0.2088 - acc: 0.9145 - val_loss: 0.3696 - val_acc: 0.8205\n",
            "Epoch 160/1000\n",
            "117/117 [==============================] - 0s 137us/sample - loss: 0.2080 - acc: 0.9145 - val_loss: 0.3745 - val_acc: 0.8205\n",
            "Epoch 161/1000\n",
            "117/117 [==============================] - 0s 167us/sample - loss: 0.2074 - acc: 0.9145 - val_loss: 0.3763 - val_acc: 0.8205\n",
            "Epoch 162/1000\n",
            "117/117 [==============================] - 0s 157us/sample - loss: 0.2065 - acc: 0.9145 - val_loss: 0.3730 - val_acc: 0.8205\n",
            "Epoch 163/1000\n",
            "117/117 [==============================] - 0s 106us/sample - loss: 0.2054 - acc: 0.9145 - val_loss: 0.3725 - val_acc: 0.8205\n",
            "Epoch 164/1000\n",
            "117/117 [==============================] - 0s 104us/sample - loss: 0.2048 - acc: 0.9145 - val_loss: 0.3710 - val_acc: 0.8205\n",
            "Epoch 165/1000\n",
            "117/117 [==============================] - 0s 142us/sample - loss: 0.2037 - acc: 0.9145 - val_loss: 0.3720 - val_acc: 0.8205\n",
            "Epoch 166/1000\n",
            "117/117 [==============================] - 0s 136us/sample - loss: 0.2029 - acc: 0.9145 - val_loss: 0.3697 - val_acc: 0.8205\n",
            "Epoch 167/1000\n",
            "117/117 [==============================] - 0s 123us/sample - loss: 0.2022 - acc: 0.9145 - val_loss: 0.3688 - val_acc: 0.8205\n",
            "Epoch 168/1000\n",
            "117/117 [==============================] - 0s 104us/sample - loss: 0.2016 - acc: 0.9145 - val_loss: 0.3689 - val_acc: 0.8205\n",
            "Epoch 00168: early stopping\n"
          ],
          "name": "stdout"
        }
      ]
    },
    {
      "cell_type": "code",
      "metadata": {
        "id": "IUREBrdMyN1e",
        "colab_type": "code",
        "outputId": "71c81d50-45ff-4f91-a803-08d7039f53b6",
        "colab": {
          "base_uri": "https://localhost:8080/",
          "height": 51
        }
      },
      "source": [
        "model.evaluate(X_test, Y_test)"
      ],
      "execution_count": 12,
      "outputs": [
        {
          "output_type": "stream",
          "text": [
            "39/39 [==============================] - 0s 122us/sample - loss: 0.1506 - acc: 0.9487\n"
          ],
          "name": "stdout"
        },
        {
          "output_type": "execute_result",
          "data": {
            "text/plain": [
              "[0.1505679427049099, 0.94871795]"
            ]
          },
          "metadata": {
            "tags": []
          },
          "execution_count": 12
        }
      ]
    },
    {
      "cell_type": "code",
      "metadata": {
        "id": "NIhFb55lBRjo",
        "colab_type": "code",
        "outputId": "5baacef5-92d5-41a5-dbc4-d2cfe5646265",
        "colab": {
          "base_uri": "https://localhost:8080/",
          "height": 282
        }
      },
      "source": [
        "plt.plot(history.history[\"loss\"])\n",
        "plt.plot(history.history[\"val_loss\"])"
      ],
      "execution_count": 13,
      "outputs": [
        {
          "output_type": "execute_result",
          "data": {
            "text/plain": [
              "[<matplotlib.lines.Line2D at 0x7f9eabc80320>]"
            ]
          },
          "metadata": {
            "tags": []
          },
          "execution_count": 13
        },
        {
          "output_type": "display_data",
          "data": {
            "image/png": "[encoded data removed]",
            "text/plain": [
              "<Figure size 432x288 with 1 Axes>"
            ]
          },
          "metadata": {
            "tags": []
          }
        }
      ]
    },
    {
      "cell_type": "code",
      "metadata": {
        "id": "0gxi9alQBmrh",
        "colab_type": "code",
        "outputId": "e839b46f-d94c-4dd1-94cd-260d81283ad1",
        "colab": {
          "base_uri": "https://localhost:8080/",
          "height": 282
        }
      },
      "source": [
        "plt.plot(history.history[\"acc\"])\n",
        "plt.plot(history.history[\"val_acc\"])"
      ],
      "execution_count": 14,
      "outputs": [
        {
          "output_type": "execute_result",
          "data": {
            "text/plain": [
              "[<matplotlib.lines.Line2D at 0x7f9e4519aa90>]"
            ]
          },
          "metadata": {
            "tags": []
          },
          "execution_count": 14
        },
        {
          "output_type": "display_data",
          "data": {
            "image/png": "[encoded data removed]",
            "text/plain": [
              "<Figure size 432x288 with 1 Axes>"
            ]
          },
          "metadata": {
            "tags": []
          }
        }
      ]
    },
    {
      "cell_type": "code",
      "metadata": {
        "id": "p19n6N6eBsgm",
        "colab_type": "code",
        "colab": {}
      },
      "source": [
        "model.save(\"model.h5\")"
      ],
      "execution_count": 0,
      "outputs": []
    },
    {
      "cell_type": "code",
      "metadata": {
        "id": "vyUQH7nZIPwO",
        "colab_type": "code",
        "colab": {}
      },
      "source": [
        "from google.colab import files\n",
        "files.download('model.h5') "
      ],
      "execution_count": 0,
      "outputs": []
    },
    {
      "cell_type": "code",
      "metadata": {
        "id": "aOq7rvyxJOHw",
        "colab_type": "code",
        "colab": {}
      },
      "source": [
        ""
      ],
      "execution_count": 0,
      "outputs": []
    },
    {
      "cell_type": "code",
      "metadata": {
        "id": "H7iTI56wJNKJ",
        "colab_type": "code",
        "colab": {}
      },
      "source": [
        ""
      ],
      "execution_count": 0,
      "outputs": []
    }
  ]
}