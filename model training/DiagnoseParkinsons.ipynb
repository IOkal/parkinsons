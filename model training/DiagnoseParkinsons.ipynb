{
  "nbformat": 4,
  "nbformat_minor": 0,
  "metadata": {
    "colab": {
      "name": "DiagnoseParkinsons.ipynb",
      "provenance": [],
      "collapsed_sections": []
    },
    "kernelspec": {
      "display_name": "Python 3",
      "language": "python",
      "name": "python3"
    },
    "language_info": {
      "codemirror_mode": {
        "name": "ipython",
        "version": 3
      },
      "file_extension": ".py",
      "mimetype": "text/x-python",
      "name": "python",
      "nbconvert_exporter": "python",
      "pygments_lexer": "ipython3",
      "version": "3.7.4"
    }
  },
  "cells": [
    {
      "cell_type": "code",
      "metadata": {
        "colab_type": "code",
        "id": "ASJZVmW6sDcn",
        "outputId": "1ac744a1-b045-4718-fdff-16da24ccd9a1",
        "colab": {
          "base_uri": "https://localhost:8080/",
          "height": 581
        }
      },
      "source": [
        "!pip install tensorflow\n",
        "!pip install numpy\n",
        "!pip install pandas\n",
        "!pip install sklearn"
      ],
      "execution_count": 0,
      "outputs": [
        {
          "output_type": "stream",
          "text": [
            "Requirement already satisfied: tensorflow in /usr/local/lib/python3.6/dist-packages (1.15.0)\n",
            "Requirement already satisfied: wrapt>=1.11.1 in /usr/local/lib/python3.6/dist-packages (from tensorflow) (1.11.2)\n",
            "Requirement already satisfied: google-pasta>=0.1.6 in /usr/local/lib/python3.6/dist-packages (from tensorflow) (0.1.8)\n",
            "Requirement already satisfied: termcolor>=1.1.0 in /usr/local/lib/python3.6/dist-packages (from tensorflow) (1.1.0)\n",
            "Requirement already satisfied: tensorboard<1.16.0,>=1.15.0 in /usr/local/lib/python3.6/dist-packages (from tensorflow) (1.15.0)\n",
            "Requirement already satisfied: grpcio>=1.8.6 in /usr/local/lib/python3.6/dist-packages (from tensorflow) (1.15.0)\n",
            "Requirement already satisfied: gast==0.2.2 in /usr/local/lib/python3.6/dist-packages (from tensorflow) (0.2.2)\n",
            "Requirement already satisfied: keras-preprocessing>=1.0.5 in /usr/local/lib/python3.6/dist-packages (from tensorflow) (1.1.0)\n",
            "Requirement already satisfied: numpy<2.0,>=1.16.0 in /usr/local/lib/python3.6/dist-packages (from tensorflow) (1.17.4)\n",
            "Requirement already satisfied: keras-applications>=1.0.8 in /usr/local/lib/python3.6/dist-packages (from tensorflow) (1.0.8)\n",
            "Requirement already satisfied: protobuf>=3.6.1 in /usr/local/lib/python3.6/dist-packages (from tensorflow) (3.10.0)\n",
            "Requirement already satisfied: wheel>=0.26 in /usr/local/lib/python3.6/dist-packages (from tensorflow) (0.33.6)\n",
            "Requirement already satisfied: opt-einsum>=2.3.2 in /usr/local/lib/python3.6/dist-packages (from tensorflow) (3.1.0)\n",
            "Requirement already satisfied: tensorflow-estimator==1.15.1 in /usr/local/lib/python3.6/dist-packages (from tensorflow) (1.15.1)\n",
            "Requirement already satisfied: six>=1.10.0 in /usr/local/lib/python3.6/dist-packages (from tensorflow) (1.12.0)\n",
            "Requirement already satisfied: astor>=0.6.0 in /usr/local/lib/python3.6/dist-packages (from tensorflow) (0.8.0)\n",
            "Requirement already satisfied: absl-py>=0.7.0 in /usr/local/lib/python3.6/dist-packages (from tensorflow) (0.8.1)\n",
            "Requirement already satisfied: markdown>=2.6.8 in /usr/local/lib/python3.6/dist-packages (from tensorboard<1.16.0,>=1.15.0->tensorflow) (3.1.1)\n",
            "Requirement already satisfied: setuptools>=41.0.0 in /usr/local/lib/python3.6/dist-packages (from tensorboard<1.16.0,>=1.15.0->tensorflow) (41.6.0)\n",
            "Requirement already satisfied: werkzeug>=0.11.15 in /usr/local/lib/python3.6/dist-packages (from tensorboard<1.16.0,>=1.15.0->tensorflow) (0.16.0)\n",
            "Requirement already satisfied: h5py in /usr/local/lib/python3.6/dist-packages (from keras-applications>=1.0.8->tensorflow) (2.8.0)\n",
            "Requirement already satisfied: numpy in /usr/local/lib/python3.6/dist-packages (1.17.4)\n",
            "Requirement already satisfied: pandas in /usr/local/lib/python3.6/dist-packages (0.25.3)\n",
            "Requirement already satisfied: python-dateutil>=2.6.1 in /usr/local/lib/python3.6/dist-packages (from pandas) (2.6.1)\n",
            "Requirement already satisfied: numpy>=1.13.3 in /usr/local/lib/python3.6/dist-packages (from pandas) (1.17.4)\n",
            "Requirement already satisfied: pytz>=2017.2 in /usr/local/lib/python3.6/dist-packages (from pandas) (2018.9)\n",
            "Requirement already satisfied: six>=1.5 in /usr/local/lib/python3.6/dist-packages (from python-dateutil>=2.6.1->pandas) (1.12.0)\n",
            "Requirement already satisfied: sklearn in /usr/local/lib/python3.6/dist-packages (0.0)\n",
            "Requirement already satisfied: scikit-learn in /usr/local/lib/python3.6/dist-packages (from sklearn) (0.21.3)\n",
            "Requirement already satisfied: scipy>=0.17.0 in /usr/local/lib/python3.6/dist-packages (from scikit-learn->sklearn) (1.3.2)\n",
            "Requirement already satisfied: numpy>=1.11.0 in /usr/local/lib/python3.6/dist-packages (from scikit-learn->sklearn) (1.17.4)\n",
            "Requirement already satisfied: joblib>=0.11 in /usr/local/lib/python3.6/dist-packages (from scikit-learn->sklearn) (0.14.0)\n"
          ],
          "name": "stdout"
        }
      ]
    },
    {
      "cell_type": "code",
      "metadata": {
        "colab_type": "code",
        "id": "eaWmRbeqsLv2",
        "outputId": "338f3f9a-7d56-4994-ec07-3403a9b875ea",
        "colab": {
          "base_uri": "https://localhost:8080/",
          "height": 80
        }
      },
      "source": [
        "import tensorflow\n",
        "from tensorflow.keras.models import Sequential\n",
        "from tensorflow.keras.layers import Dense, Dropout, Input\n",
        "from tensorflow.keras.models import Sequential\n",
        "from tensorflow.keras.callbacks import EarlyStopping\n",
        "import pandas as pd\n",
        "from sklearn.preprocessing import MinMaxScaler\n",
        "from sklearn.model_selection import train_test_split\n",
        "import matplotlib.pyplot as plt"
      ],
      "execution_count": 0,
      "outputs": [
        {
          "output_type": "display_data",
          "data": {
            "text/html": [
              "<p style=\"color: red;\">\n",
              "The default version of TensorFlow in Colab will soon switch to TensorFlow 2.x.<br>\n",
              "We recommend you <a href=\"https://www.tensorflow.org/guide/migrate\" target=\"_blank\">upgrade</a> now \n",
              "or ensure your notebook will continue to use TensorFlow 1.x via the <code>%tensorflow_version 1.x</code> magic:\n",
              "<a href=\"https://colab.research.google.com/notebooks/tensorflow_version.ipynb\" target=\"_blank\">more info</a>.</p>\n"
            ],
            "text/plain": [
              "<IPython.core.display.HTML object>"
            ]
          },
          "metadata": {
            "tags": []
          }
        }
      ]
    },
    {
      "cell_type": "code",
      "metadata": {
        "colab_type": "code",
        "id": "_0P1cKSQsBvI",
        "colab": {}
      },
      "source": [
        "def create_model():\n",
        "    # Create a multilayer perceptron\n",
        "    model = Sequential()\n",
        "    model.add(Input((15,)))\n",
        "    model.add(Dense(100, activation='relu'))\n",
        "    model.add(Dense(1, activation='sigmoid'))\n",
        "    model.compile(loss=\"binary_crossentropy\", optimizer=\"adam\", metrics=[\"accuracy\"])\n",
        "    return model"
      ],
      "execution_count": 0,
      "outputs": []
    },
    {
      "cell_type": "code",
      "metadata": {
        "colab_type": "code",
        "id": "nFjMTkI1uZeP",
        "colab": {}
      },
      "source": [
        "df = pd.read_csv(\"data.csv\")\n",
        "labels = df[\"status\"]\n",
        "df = df.drop(columns=[\"status\", \"spread1\", \"spread2\", \"D2\", \"PPE\", \"NHR\", \"RPDE\", \"DFA\"], axis=1)\n",
        "df[df.columns] = MinMaxScaler(feature_range=(0,1)).fit_transform(df[df.columns])"
      ],
      "execution_count": 0,
      "outputs": []
    },
    {
      "cell_type": "code",
      "metadata": {
        "colab_type": "code",
        "id": "SBvjiZ_RwWxy",
        "colab": {}
      },
      "source": [
        "seed = 1337\n",
        "X_train, X_test, Y_train, Y_test = train_test_split(df, labels, test_size=0.2, random_state=seed)\n",
        "X_train, X_validation, Y_train, Y_validation = train_test_split(X_train, Y_train, test_size=0.25, random_state=seed)"
      ],
      "execution_count": 0,
      "outputs": []
    },
    {
      "cell_type": "code",
      "metadata": {
        "colab_type": "code",
        "id": "BrFrVylhx-Pp",
        "outputId": "290f3761-ac7c-4d96-e04f-d0cdf12bff41",
        "colab": {
          "base_uri": "https://localhost:8080/",
          "height": 1000
        }
      },
      "source": [
        "model = create_model()\n",
        "early_stopping = EarlyStopping(monitor='val_loss', mode='min', verbose=1, patience=10)\n",
        "history = model.fit(X_train, Y_train, validation_data=(X_validation, Y_validation), epochs=1000, callbacks=[early_stopping])"
      ],
      "execution_count": 0,
      "outputs": [
        {
          "output_type": "stream",
          "text": [
            "Train on 117 samples, validate on 39 samples\n",
            "Epoch 1/1000\n",
            "117/117 [==============================] - 0s 3ms/sample - loss: 0.6750 - acc: 0.7179 - val_loss: 0.6466 - val_acc: 0.7692\n",
            "Epoch 2/1000\n",
            "117/117 [==============================] - 0s 121us/sample - loss: 0.6487 - acc: 0.7436 - val_loss: 0.6250 - val_acc: 0.7692\n",
            "Epoch 3/1000\n",
            "117/117 [==============================] - 0s 138us/sample - loss: 0.6268 - acc: 0.7436 - val_loss: 0.6054 - val_acc: 0.7692\n",
            "Epoch 4/1000\n",
            "117/117 [==============================] - 0s 159us/sample - loss: 0.6073 - acc: 0.7436 - val_loss: 0.5882 - val_acc: 0.7692\n",
            "Epoch 5/1000\n",
            "117/117 [==============================] - 0s 145us/sample - loss: 0.5878 - acc: 0.7436 - val_loss: 0.5734 - val_acc: 0.7692\n",
            "Epoch 6/1000\n",
            "117/117 [==============================] - 0s 138us/sample - loss: 0.5730 - acc: 0.7436 - val_loss: 0.5605 - val_acc: 0.7692\n",
            "Epoch 7/1000\n",
            "117/117 [==============================] - 0s 137us/sample - loss: 0.5583 - acc: 0.7436 - val_loss: 0.5498 - val_acc: 0.7692\n",
            "Epoch 8/1000\n",
            "117/117 [==============================] - 0s 182us/sample - loss: 0.5472 - acc: 0.7436 - val_loss: 0.5404 - val_acc: 0.7692\n",
            "Epoch 9/1000\n",
            "117/117 [==============================] - 0s 126us/sample - loss: 0.5367 - acc: 0.7436 - val_loss: 0.5325 - val_acc: 0.7692\n",
            "Epoch 10/1000\n",
            "117/117 [==============================] - 0s 137us/sample - loss: 0.5277 - acc: 0.7436 - val_loss: 0.5262 - val_acc: 0.7692\n",
            "Epoch 11/1000\n",
            "117/117 [==============================] - 0s 183us/sample - loss: 0.5189 - acc: 0.7436 - val_loss: 0.5212 - val_acc: 0.7692\n",
            "Epoch 12/1000\n",
            "117/117 [==============================] - 0s 140us/sample - loss: 0.5116 - acc: 0.7436 - val_loss: 0.5170 - val_acc: 0.7692\n",
            "Epoch 13/1000\n",
            "117/117 [==============================] - 0s 172us/sample - loss: 0.5040 - acc: 0.7436 - val_loss: 0.5136 - val_acc: 0.7692\n",
            "Epoch 14/1000\n",
            "117/117 [==============================] - 0s 121us/sample - loss: 0.4972 - acc: 0.7436 - val_loss: 0.5106 - val_acc: 0.7692\n",
            "Epoch 15/1000\n",
            "117/117 [==============================] - 0s 123us/sample - loss: 0.4911 - acc: 0.7436 - val_loss: 0.5077 - val_acc: 0.7692\n",
            "Epoch 16/1000\n",
            "117/117 [==============================] - 0s 166us/sample - loss: 0.4856 - acc: 0.7436 - val_loss: 0.5051 - val_acc: 0.7692\n",
            "Epoch 17/1000\n",
            "117/117 [==============================] - 0s 156us/sample - loss: 0.4800 - acc: 0.7436 - val_loss: 0.5025 - val_acc: 0.7692\n",
            "Epoch 18/1000\n",
            "117/117 [==============================] - 0s 127us/sample - loss: 0.4749 - acc: 0.7436 - val_loss: 0.5002 - val_acc: 0.7692\n",
            "Epoch 19/1000\n",
            "117/117 [==============================] - 0s 120us/sample - loss: 0.4694 - acc: 0.7436 - val_loss: 0.4980 - val_acc: 0.7692\n",
            "Epoch 20/1000\n",
            "117/117 [==============================] - 0s 140us/sample - loss: 0.4649 - acc: 0.7436 - val_loss: 0.4961 - val_acc: 0.7692\n",
            "Epoch 21/1000\n",
            "117/117 [==============================] - 0s 144us/sample - loss: 0.4609 - acc: 0.7436 - val_loss: 0.4945 - val_acc: 0.7692\n",
            "Epoch 22/1000\n",
            "117/117 [==============================] - 0s 124us/sample - loss: 0.4564 - acc: 0.7436 - val_loss: 0.4929 - val_acc: 0.7692\n",
            "Epoch 23/1000\n",
            "117/117 [==============================] - 0s 131us/sample - loss: 0.4527 - acc: 0.7436 - val_loss: 0.4917 - val_acc: 0.7692\n",
            "Epoch 24/1000\n",
            "117/117 [==============================] - 0s 130us/sample - loss: 0.4494 - acc: 0.7607 - val_loss: 0.4905 - val_acc: 0.7692\n",
            "Epoch 25/1000\n",
            "117/117 [==============================] - 0s 124us/sample - loss: 0.4452 - acc: 0.7778 - val_loss: 0.4891 - val_acc: 0.7692\n",
            "Epoch 26/1000\n",
            "117/117 [==============================] - 0s 125us/sample - loss: 0.4424 - acc: 0.8120 - val_loss: 0.4879 - val_acc: 0.7949\n",
            "Epoch 27/1000\n",
            "117/117 [==============================] - 0s 132us/sample - loss: 0.4392 - acc: 0.8120 - val_loss: 0.4869 - val_acc: 0.7949\n",
            "Epoch 28/1000\n",
            "117/117 [==============================] - 0s 132us/sample - loss: 0.4364 - acc: 0.8120 - val_loss: 0.4859 - val_acc: 0.7949\n",
            "Epoch 29/1000\n",
            "117/117 [==============================] - 0s 140us/sample - loss: 0.4339 - acc: 0.8205 - val_loss: 0.4851 - val_acc: 0.7949\n",
            "Epoch 30/1000\n",
            "117/117 [==============================] - 0s 114us/sample - loss: 0.4317 - acc: 0.8291 - val_loss: 0.4845 - val_acc: 0.7949\n",
            "Epoch 31/1000\n",
            "117/117 [==============================] - 0s 124us/sample - loss: 0.4290 - acc: 0.8291 - val_loss: 0.4837 - val_acc: 0.7949\n",
            "Epoch 32/1000\n",
            "117/117 [==============================] - 0s 130us/sample - loss: 0.4269 - acc: 0.8291 - val_loss: 0.4832 - val_acc: 0.7949\n",
            "Epoch 33/1000\n",
            "117/117 [==============================] - 0s 118us/sample - loss: 0.4254 - acc: 0.8376 - val_loss: 0.4828 - val_acc: 0.7949\n",
            "Epoch 34/1000\n",
            "117/117 [==============================] - 0s 123us/sample - loss: 0.4232 - acc: 0.8376 - val_loss: 0.4823 - val_acc: 0.7949\n",
            "Epoch 35/1000\n",
            "117/117 [==============================] - 0s 174us/sample - loss: 0.4212 - acc: 0.8291 - val_loss: 0.4819 - val_acc: 0.7949\n",
            "Epoch 36/1000\n",
            "117/117 [==============================] - 0s 161us/sample - loss: 0.4198 - acc: 0.8291 - val_loss: 0.4816 - val_acc: 0.7949\n",
            "Epoch 37/1000\n",
            "117/117 [==============================] - 0s 183us/sample - loss: 0.4182 - acc: 0.8034 - val_loss: 0.4813 - val_acc: 0.7949\n",
            "Epoch 38/1000\n",
            "117/117 [==============================] - 0s 124us/sample - loss: 0.4168 - acc: 0.8034 - val_loss: 0.4811 - val_acc: 0.7949\n",
            "Epoch 39/1000\n",
            "117/117 [==============================] - 0s 111us/sample - loss: 0.4156 - acc: 0.7949 - val_loss: 0.4809 - val_acc: 0.7949\n",
            "Epoch 40/1000\n",
            "117/117 [==============================] - 0s 163us/sample - loss: 0.4151 - acc: 0.7863 - val_loss: 0.4808 - val_acc: 0.7949\n",
            "Epoch 41/1000\n",
            "117/117 [==============================] - 0s 151us/sample - loss: 0.4131 - acc: 0.7863 - val_loss: 0.4806 - val_acc: 0.7949\n",
            "Epoch 42/1000\n",
            "117/117 [==============================] - 0s 191us/sample - loss: 0.4125 - acc: 0.7863 - val_loss: 0.4805 - val_acc: 0.7949\n",
            "Epoch 43/1000\n",
            "117/117 [==============================] - 0s 138us/sample - loss: 0.4112 - acc: 0.7692 - val_loss: 0.4805 - val_acc: 0.7949\n",
            "Epoch 44/1000\n",
            "117/117 [==============================] - 0s 158us/sample - loss: 0.4104 - acc: 0.7692 - val_loss: 0.4805 - val_acc: 0.8205\n",
            "Epoch 45/1000\n",
            "117/117 [==============================] - 0s 112us/sample - loss: 0.4093 - acc: 0.7692 - val_loss: 0.4804 - val_acc: 0.8205\n",
            "Epoch 46/1000\n",
            "117/117 [==============================] - 0s 155us/sample - loss: 0.4085 - acc: 0.7607 - val_loss: 0.4804 - val_acc: 0.8205\n",
            "Epoch 47/1000\n",
            "117/117 [==============================] - 0s 145us/sample - loss: 0.4076 - acc: 0.7607 - val_loss: 0.4804 - val_acc: 0.8205\n",
            "Epoch 48/1000\n",
            "117/117 [==============================] - 0s 117us/sample - loss: 0.4069 - acc: 0.7607 - val_loss: 0.4805 - val_acc: 0.8205\n",
            "Epoch 49/1000\n",
            "117/117 [==============================] - 0s 112us/sample - loss: 0.4061 - acc: 0.7607 - val_loss: 0.4806 - val_acc: 0.8205\n",
            "Epoch 50/1000\n",
            "117/117 [==============================] - 0s 114us/sample - loss: 0.4057 - acc: 0.7607 - val_loss: 0.4807 - val_acc: 0.8205\n",
            "Epoch 51/1000\n",
            "117/117 [==============================] - 0s 141us/sample - loss: 0.4049 - acc: 0.7607 - val_loss: 0.4807 - val_acc: 0.8205\n",
            "Epoch 52/1000\n",
            "117/117 [==============================] - 0s 171us/sample - loss: 0.4042 - acc: 0.7607 - val_loss: 0.4807 - val_acc: 0.8205\n",
            "Epoch 53/1000\n",
            "117/117 [==============================] - 0s 129us/sample - loss: 0.4038 - acc: 0.7607 - val_loss: 0.4807 - val_acc: 0.8205\n",
            "Epoch 54/1000\n",
            "117/117 [==============================] - 0s 125us/sample - loss: 0.4032 - acc: 0.7607 - val_loss: 0.4806 - val_acc: 0.8205\n",
            "Epoch 55/1000\n",
            "117/117 [==============================] - 0s 148us/sample - loss: 0.4026 - acc: 0.7607 - val_loss: 0.4806 - val_acc: 0.8205\n",
            "Epoch 56/1000\n",
            "117/117 [==============================] - 0s 148us/sample - loss: 0.4025 - acc: 0.7607 - val_loss: 0.4806 - val_acc: 0.8205\n",
            "Epoch 00056: early stopping\n"
          ],
          "name": "stdout"
        }
      ]
    },
    {
      "cell_type": "code",
      "metadata": {
        "colab_type": "code",
        "id": "IUREBrdMyN1e",
        "outputId": "a200500a-1206-4e1f-d07d-d5d01791f0a5",
        "colab": {
          "base_uri": "https://localhost:8080/",
          "height": 71
        }
      },
      "source": [
        "model.evaluate(X_test, Y_test)"
      ],
      "execution_count": 0,
      "outputs": [
        {
          "output_type": "stream",
          "text": [
            "39/39 [==============================] - 0s 273us/sample - loss: 0.2851 - acc: 0.9231\n"
          ],
          "name": "stdout"
        },
        {
          "output_type": "execute_result",
          "data": {
            "text/plain": [
              "[0.2850594008580232, 0.9230769]"
            ]
          },
          "metadata": {
            "tags": []
          },
          "execution_count": 14
        }
      ]
    },
    {
      "cell_type": "code",
      "metadata": {
        "colab_type": "code",
        "id": "NIhFb55lBRjo",
        "outputId": "707fccb8-739e-4b56-e1ef-926b2646ad7a",
        "colab": {
          "base_uri": "https://localhost:8080/",
          "height": 282
        }
      },
      "source": [
        "plt.plot(history.history[\"loss\"])\n",
        "plt.plot(history.history[\"val_loss\"])"
      ],
      "execution_count": 0,
      "outputs": [
        {
          "output_type": "execute_result",
          "data": {
            "text/plain": [
              "[<matplotlib.lines.Line2D at 0x7f389a20aa90>]"
            ]
          },
          "metadata": {
            "tags": []
          },
          "execution_count": 15
        },
        {
          "output_type": "display_data",
          "data": {
            "image/png": "[encoded data removed]",
            "text/plain": [
              "<Figure size 432x288 with 1 Axes>"
            ]
          },
          "metadata": {
            "tags": []
          }
        }
      ]
    },
    {
      "cell_type": "code",
      "metadata": {
        "colab_type": "code",
        "id": "0gxi9alQBmrh",
        "outputId": "8d4c6b16-1bed-4c3a-bc1d-f5578a3bdf99",
        "colab": {
          "base_uri": "https://localhost:8080/",
          "height": 282
        }
      },
      "source": [
        "plt.plot(history.history[\"acc\"])\n",
        "plt.plot(history.history[\"val_acc\"])"
      ],
      "execution_count": 0,
      "outputs": [
        {
          "output_type": "execute_result",
          "data": {
            "text/plain": [
              "[<matplotlib.lines.Line2D at 0x7f388cd217f0>]"
            ]
          },
          "metadata": {
            "tags": []
          },
          "execution_count": 16
        },
        {
          "output_type": "display_data",
          "data": {
            "image/png": "[encoded data removed]",
            "text/plain": [
              "<Figure size 432x288 with 1 Axes>"
            ]
          },
          "metadata": {
            "tags": []
          }
        }
      ]
    },
    {
      "cell_type": "code",
      "metadata": {
        "colab_type": "code",
        "id": "p19n6N6eBsgm",
        "colab": {}
      },
      "source": [
        "model.save(\"model.h5\")"
      ],
      "execution_count": 0,
      "outputs": []
    },
    {
      "cell_type": "code",
      "metadata": {
        "colab_type": "code",
        "id": "vyUQH7nZIPwO",
        "colab": {}
      },
      "source": [
        "from google.colab import files\n",
        "files.download('model.h5') "
      ],
      "execution_count": 0,
      "outputs": []
    },
    {
      "cell_type": "code",
      "metadata": {
        "colab_type": "code",
        "id": "aOq7rvyxJOHw",
        "colab": {}
      },
      "source": [
        ""
      ],
      "execution_count": 0,
      "outputs": []
    },
    {
      "cell_type": "code",
      "metadata": {
        "colab_type": "code",
        "id": "H7iTI56wJNKJ",
        "colab": {}
      },
      "source": [
        ""
      ],
      "execution_count": 0,
      "outputs": []
    }
  ]
}