{
  "nbformat": 4,
  "nbformat_minor": 0,
  "metadata": {
    "colab": {
      "name": "DiagnoseParkinsons.ipynb",
      "provenance": []
    },
    "kernelspec": {
      "name": "python3",
      "display_name": "Python 3"
    }
  },
  "cells": [
    {
      "cell_type": "code",
      "metadata": {
        "id": "ASJZVmW6sDcn",
        "colab_type": "code",
        "outputId": "9a288980-5a03-4191-c23b-8741b2401876",
        "colab": {
          "base_uri": "https://localhost:8080/",
          "height": 581
        }
      },
      "source": [
        "!pip install tensorflow\n",
        "!pip install numpy\n",
        "!pip install pandas\n",
        "!pip install sklearn"
      ],
      "execution_count": 5,
      "outputs": [
        {
          "output_type": "stream",
          "text": [
            "Requirement already satisfied: tensorflow in /usr/local/lib/python3.6/dist-packages (1.15.0)\n",
            "Requirement already satisfied: numpy<2.0,>=1.16.0 in /usr/local/lib/python3.6/dist-packages (from tensorflow) (1.17.4)\n",
            "Requirement already satisfied: tensorflow-estimator==1.15.1 in /usr/local/lib/python3.6/dist-packages (from tensorflow) (1.15.1)\n",
            "Requirement already satisfied: six>=1.10.0 in /usr/local/lib/python3.6/dist-packages (from tensorflow) (1.12.0)\n",
            "Requirement already satisfied: keras-applications>=1.0.8 in /usr/local/lib/python3.6/dist-packages (from tensorflow) (1.0.8)\n",
            "Requirement already satisfied: opt-einsum>=2.3.2 in /usr/local/lib/python3.6/dist-packages (from tensorflow) (3.1.0)\n",
            "Requirement already satisfied: astor>=0.6.0 in /usr/local/lib/python3.6/dist-packages (from tensorflow) (0.8.0)\n",
            "Requirement already satisfied: gast==0.2.2 in /usr/local/lib/python3.6/dist-packages (from tensorflow) (0.2.2)\n",
            "Requirement already satisfied: tensorboard<1.16.0,>=1.15.0 in /usr/local/lib/python3.6/dist-packages (from tensorflow) (1.15.0)\n",
            "Requirement already satisfied: keras-preprocessing>=1.0.5 in /usr/local/lib/python3.6/dist-packages (from tensorflow) (1.1.0)\n",
            "Requirement already satisfied: google-pasta>=0.1.6 in /usr/local/lib/python3.6/dist-packages (from tensorflow) (0.1.8)\n",
            "Requirement already satisfied: termcolor>=1.1.0 in /usr/local/lib/python3.6/dist-packages (from tensorflow) (1.1.0)\n",
            "Requirement already satisfied: grpcio>=1.8.6 in /usr/local/lib/python3.6/dist-packages (from tensorflow) (1.15.0)\n",
            "Requirement already satisfied: protobuf>=3.6.1 in /usr/local/lib/python3.6/dist-packages (from tensorflow) (3.10.0)\n",
            "Requirement already satisfied: absl-py>=0.7.0 in /usr/local/lib/python3.6/dist-packages (from tensorflow) (0.8.1)\n",
            "Requirement already satisfied: wheel>=0.26 in /usr/local/lib/python3.6/dist-packages (from tensorflow) (0.33.6)\n",
            "Requirement already satisfied: wrapt>=1.11.1 in /usr/local/lib/python3.6/dist-packages (from tensorflow) (1.11.2)\n",
            "Requirement already satisfied: h5py in /usr/local/lib/python3.6/dist-packages (from keras-applications>=1.0.8->tensorflow) (2.8.0)\n",
            "Requirement already satisfied: werkzeug>=0.11.15 in /usr/local/lib/python3.6/dist-packages (from tensorboard<1.16.0,>=1.15.0->tensorflow) (0.16.0)\n",
            "Requirement already satisfied: markdown>=2.6.8 in /usr/local/lib/python3.6/dist-packages (from tensorboard<1.16.0,>=1.15.0->tensorflow) (3.1.1)\n",
            "Requirement already satisfied: setuptools>=41.0.0 in /usr/local/lib/python3.6/dist-packages (from tensorboard<1.16.0,>=1.15.0->tensorflow) (41.6.0)\n",
            "Requirement already satisfied: numpy in /usr/local/lib/python3.6/dist-packages (1.17.4)\n",
            "Requirement already satisfied: pandas in /usr/local/lib/python3.6/dist-packages (0.25.3)\n",
            "Requirement already satisfied: numpy>=1.13.3 in /usr/local/lib/python3.6/dist-packages (from pandas) (1.17.4)\n",
            "Requirement already satisfied: pytz>=2017.2 in /usr/local/lib/python3.6/dist-packages (from pandas) (2018.9)\n",
            "Requirement already satisfied: python-dateutil>=2.6.1 in /usr/local/lib/python3.6/dist-packages (from pandas) (2.6.1)\n",
            "Requirement already satisfied: six>=1.5 in /usr/local/lib/python3.6/dist-packages (from python-dateutil>=2.6.1->pandas) (1.12.0)\n",
            "Requirement already satisfied: sklearn in /usr/local/lib/python3.6/dist-packages (0.0)\n",
            "Requirement already satisfied: scikit-learn in /usr/local/lib/python3.6/dist-packages (from sklearn) (0.21.3)\n",
            "Requirement already satisfied: scipy>=0.17.0 in /usr/local/lib/python3.6/dist-packages (from scikit-learn->sklearn) (1.3.2)\n",
            "Requirement already satisfied: joblib>=0.11 in /usr/local/lib/python3.6/dist-packages (from scikit-learn->sklearn) (0.14.0)\n",
            "Requirement already satisfied: numpy>=1.11.0 in /usr/local/lib/python3.6/dist-packages (from scikit-learn->sklearn) (1.17.4)\n"
          ],
          "name": "stdout"
        }
      ]
    },
    {
      "cell_type": "code",
      "metadata": {
        "id": "eaWmRbeqsLv2",
        "colab_type": "code",
        "colab": {}
      },
      "source": [
        "from tensorflow.keras.models import Sequential\n",
        "from tensorflow.keras.layers import Dense, Dropout, Input\n",
        "from tensorflow.keras.models import Sequential\n",
        "from tensorflow.keras.callbacks import EarlyStopping\n",
        "import pandas as pd\n",
        "from sklearn.preprocessing import MinMaxScaler\n",
        "from sklearn.model_selection import train_test_split\n",
        "import matplotlib.pyplot as plt"
      ],
      "execution_count": 0,
      "outputs": []
    },
    {
      "cell_type": "code",
      "metadata": {
        "id": "_0P1cKSQsBvI",
        "colab_type": "code",
        "colab": {}
      },
      "source": [
        "def create_model():\n",
        "  # Create a multilayer perceptron\n",
        "  model = Sequential()\n",
        "  model.add(Input((22,)))\n",
        "  model.add(Dense(100, activation='relu'))\n",
        "  model.add(Dense(1, activation='sigmoid'))\n",
        "  model.compile(loss=\"binary_crossentropy\", optimizer=\"adam\", metrics=[\"accuracy\"])\n",
        "  return model"
      ],
      "execution_count": 0,
      "outputs": []
    },
    {
      "cell_type": "code",
      "metadata": {
        "id": "nFjMTkI1uZeP",
        "colab_type": "code",
        "colab": {}
      },
      "source": [
        "df = pd.read_csv(\"data.csv\")\n",
        "labels = df[\"status\"]\n",
        "df = df.drop(columns=\"status\")\n",
        "df[df.columns] = MinMaxScaler(feature_range=(0,1)).fit_transform(df[df.columns])"
      ],
      "execution_count": 0,
      "outputs": []
    },
    {
      "cell_type": "code",
      "metadata": {
        "id": "SBvjiZ_RwWxy",
        "colab_type": "code",
        "colab": {}
      },
      "source": [
        "seed = 1337\n",
        "X_train, X_test, Y_train, Y_test = train_test_split(df, labels, test_size=0.2, random_state=seed)\n",
        "X_train, X_validation, Y_train, Y_validation = train_test_split(X_train, Y_train, test_size=0.25, random_state=seed)"
      ],
      "execution_count": 0,
      "outputs": []
    },
    {
      "cell_type": "code",
      "metadata": {
        "id": "BrFrVylhx-Pp",
        "colab_type": "code",
        "colab": {
          "base_uri": "https://localhost:8080/",
          "height": 1000
        },
        "outputId": "66603cbf-1cec-41d0-de44-1744329fadab"
      },
      "source": [
        "model = create_model()\n",
        "early_stopping = EarlyStopping(monitor='val_loss', mode='min', verbose=1, patience=10)\n",
        "history = model.fit(X_train, Y_train, validation_data=(X_validation, Y_validation), epochs=1000, callbacks=[early_stopping])"
      ],
      "execution_count": 16,
      "outputs": [
        {
          "output_type": "stream",
          "text": [
            "Train on 117 samples, validate on 39 samples\n",
            "Epoch 1/1000\n",
            "117/117 [==============================] - 0s 929us/sample - loss: 0.6857 - acc: 0.5470 - val_loss: 0.6442 - val_acc: 0.7692\n",
            "Epoch 2/1000\n",
            "117/117 [==============================] - 0s 139us/sample - loss: 0.6343 - acc: 0.7436 - val_loss: 0.6046 - val_acc: 0.7692\n",
            "Epoch 3/1000\n",
            "117/117 [==============================] - 0s 124us/sample - loss: 0.5978 - acc: 0.7436 - val_loss: 0.5726 - val_acc: 0.7692\n",
            "Epoch 4/1000\n",
            "117/117 [==============================] - 0s 129us/sample - loss: 0.5660 - acc: 0.7436 - val_loss: 0.5489 - val_acc: 0.7692\n",
            "Epoch 5/1000\n",
            "117/117 [==============================] - 0s 149us/sample - loss: 0.5459 - acc: 0.7436 - val_loss: 0.5305 - val_acc: 0.7692\n",
            "Epoch 6/1000\n",
            "117/117 [==============================] - 0s 145us/sample - loss: 0.5255 - acc: 0.7436 - val_loss: 0.5176 - val_acc: 0.7692\n",
            "Epoch 7/1000\n",
            "117/117 [==============================] - 0s 146us/sample - loss: 0.5129 - acc: 0.7436 - val_loss: 0.5080 - val_acc: 0.7692\n",
            "Epoch 8/1000\n",
            "117/117 [==============================] - 0s 129us/sample - loss: 0.5014 - acc: 0.7436 - val_loss: 0.5011 - val_acc: 0.7692\n",
            "Epoch 9/1000\n",
            "117/117 [==============================] - 0s 115us/sample - loss: 0.4915 - acc: 0.7436 - val_loss: 0.4956 - val_acc: 0.7692\n",
            "Epoch 10/1000\n",
            "117/117 [==============================] - 0s 101us/sample - loss: 0.4833 - acc: 0.7436 - val_loss: 0.4907 - val_acc: 0.7692\n",
            "Epoch 11/1000\n",
            "117/117 [==============================] - 0s 108us/sample - loss: 0.4746 - acc: 0.7436 - val_loss: 0.4863 - val_acc: 0.7692\n",
            "Epoch 12/1000\n",
            "117/117 [==============================] - 0s 117us/sample - loss: 0.4674 - acc: 0.7436 - val_loss: 0.4819 - val_acc: 0.7692\n",
            "Epoch 13/1000\n",
            "117/117 [==============================] - 0s 145us/sample - loss: 0.4602 - acc: 0.7436 - val_loss: 0.4782 - val_acc: 0.7692\n",
            "Epoch 14/1000\n",
            "117/117 [==============================] - 0s 126us/sample - loss: 0.4520 - acc: 0.7521 - val_loss: 0.4746 - val_acc: 0.7692\n",
            "Epoch 15/1000\n",
            "117/117 [==============================] - 0s 117us/sample - loss: 0.4459 - acc: 0.7607 - val_loss: 0.4712 - val_acc: 0.7692\n",
            "Epoch 16/1000\n",
            "117/117 [==============================] - 0s 103us/sample - loss: 0.4390 - acc: 0.7692 - val_loss: 0.4680 - val_acc: 0.7692\n",
            "Epoch 17/1000\n",
            "117/117 [==============================] - 0s 114us/sample - loss: 0.4326 - acc: 0.7692 - val_loss: 0.4649 - val_acc: 0.7949\n",
            "Epoch 18/1000\n",
            "117/117 [==============================] - 0s 98us/sample - loss: 0.4270 - acc: 0.7949 - val_loss: 0.4616 - val_acc: 0.7949\n",
            "Epoch 19/1000\n",
            "117/117 [==============================] - 0s 97us/sample - loss: 0.4212 - acc: 0.8120 - val_loss: 0.4586 - val_acc: 0.7949\n",
            "Epoch 20/1000\n",
            "117/117 [==============================] - 0s 123us/sample - loss: 0.4162 - acc: 0.8291 - val_loss: 0.4558 - val_acc: 0.7949\n",
            "Epoch 21/1000\n",
            "117/117 [==============================] - 0s 142us/sample - loss: 0.4110 - acc: 0.8205 - val_loss: 0.4537 - val_acc: 0.8205\n",
            "Epoch 22/1000\n",
            "117/117 [==============================] - 0s 110us/sample - loss: 0.4066 - acc: 0.8034 - val_loss: 0.4517 - val_acc: 0.8205\n",
            "Epoch 23/1000\n",
            "117/117 [==============================] - 0s 110us/sample - loss: 0.4024 - acc: 0.8034 - val_loss: 0.4496 - val_acc: 0.8205\n",
            "Epoch 24/1000\n",
            "117/117 [==============================] - 0s 147us/sample - loss: 0.3998 - acc: 0.8034 - val_loss: 0.4481 - val_acc: 0.8205\n",
            "Epoch 25/1000\n",
            "117/117 [==============================] - 0s 144us/sample - loss: 0.3947 - acc: 0.8034 - val_loss: 0.4464 - val_acc: 0.8205\n",
            "Epoch 26/1000\n",
            "117/117 [==============================] - 0s 98us/sample - loss: 0.3913 - acc: 0.8034 - val_loss: 0.4448 - val_acc: 0.8205\n",
            "Epoch 27/1000\n",
            "117/117 [==============================] - 0s 122us/sample - loss: 0.3883 - acc: 0.8034 - val_loss: 0.4434 - val_acc: 0.8205\n",
            "Epoch 28/1000\n",
            "117/117 [==============================] - 0s 124us/sample - loss: 0.3853 - acc: 0.7949 - val_loss: 0.4418 - val_acc: 0.8205\n",
            "Epoch 29/1000\n",
            "117/117 [==============================] - 0s 119us/sample - loss: 0.3818 - acc: 0.7949 - val_loss: 0.4404 - val_acc: 0.8205\n",
            "Epoch 30/1000\n",
            "117/117 [==============================] - 0s 140us/sample - loss: 0.3790 - acc: 0.8120 - val_loss: 0.4392 - val_acc: 0.8205\n",
            "Epoch 31/1000\n",
            "117/117 [==============================] - 0s 143us/sample - loss: 0.3763 - acc: 0.8120 - val_loss: 0.4381 - val_acc: 0.8205\n",
            "Epoch 32/1000\n",
            "117/117 [==============================] - 0s 115us/sample - loss: 0.3737 - acc: 0.8120 - val_loss: 0.4374 - val_acc: 0.8205\n",
            "Epoch 33/1000\n",
            "117/117 [==============================] - 0s 140us/sample - loss: 0.3718 - acc: 0.8120 - val_loss: 0.4359 - val_acc: 0.8205\n",
            "Epoch 34/1000\n",
            "117/117 [==============================] - 0s 133us/sample - loss: 0.3693 - acc: 0.8205 - val_loss: 0.4358 - val_acc: 0.8205\n",
            "Epoch 35/1000\n",
            "117/117 [==============================] - 0s 118us/sample - loss: 0.3665 - acc: 0.8205 - val_loss: 0.4353 - val_acc: 0.8205\n",
            "Epoch 36/1000\n",
            "117/117 [==============================] - 0s 124us/sample - loss: 0.3645 - acc: 0.8205 - val_loss: 0.4341 - val_acc: 0.8205\n",
            "Epoch 37/1000\n",
            "117/117 [==============================] - 0s 103us/sample - loss: 0.3618 - acc: 0.8205 - val_loss: 0.4329 - val_acc: 0.8205\n",
            "Epoch 38/1000\n",
            "117/117 [==============================] - 0s 114us/sample - loss: 0.3598 - acc: 0.8205 - val_loss: 0.4313 - val_acc: 0.8205\n",
            "Epoch 39/1000\n",
            "117/117 [==============================] - 0s 103us/sample - loss: 0.3579 - acc: 0.8120 - val_loss: 0.4300 - val_acc: 0.8205\n",
            "Epoch 40/1000\n",
            "117/117 [==============================] - 0s 107us/sample - loss: 0.3559 - acc: 0.8034 - val_loss: 0.4291 - val_acc: 0.8205\n",
            "Epoch 41/1000\n",
            "117/117 [==============================] - 0s 116us/sample - loss: 0.3541 - acc: 0.8034 - val_loss: 0.4282 - val_acc: 0.8205\n",
            "Epoch 42/1000\n",
            "117/117 [==============================] - 0s 120us/sample - loss: 0.3521 - acc: 0.8120 - val_loss: 0.4278 - val_acc: 0.8205\n",
            "Epoch 43/1000\n",
            "117/117 [==============================] - 0s 118us/sample - loss: 0.3502 - acc: 0.8205 - val_loss: 0.4277 - val_acc: 0.8205\n",
            "Epoch 44/1000\n",
            "117/117 [==============================] - 0s 107us/sample - loss: 0.3484 - acc: 0.8291 - val_loss: 0.4274 - val_acc: 0.8205\n",
            "Epoch 45/1000\n",
            "117/117 [==============================] - 0s 123us/sample - loss: 0.3471 - acc: 0.8291 - val_loss: 0.4274 - val_acc: 0.8205\n",
            "Epoch 46/1000\n",
            "117/117 [==============================] - 0s 114us/sample - loss: 0.3456 - acc: 0.8376 - val_loss: 0.4268 - val_acc: 0.8205\n",
            "Epoch 47/1000\n",
            "117/117 [==============================] - 0s 143us/sample - loss: 0.3444 - acc: 0.8291 - val_loss: 0.4241 - val_acc: 0.8205\n",
            "Epoch 48/1000\n",
            "117/117 [==============================] - 0s 112us/sample - loss: 0.3417 - acc: 0.8291 - val_loss: 0.4230 - val_acc: 0.8205\n",
            "Epoch 49/1000\n",
            "117/117 [==============================] - 0s 118us/sample - loss: 0.3404 - acc: 0.8291 - val_loss: 0.4223 - val_acc: 0.8205\n",
            "Epoch 50/1000\n",
            "117/117 [==============================] - 0s 143us/sample - loss: 0.3385 - acc: 0.8205 - val_loss: 0.4213 - val_acc: 0.8205\n",
            "Epoch 51/1000\n",
            "117/117 [==============================] - 0s 98us/sample - loss: 0.3370 - acc: 0.8205 - val_loss: 0.4209 - val_acc: 0.8205\n",
            "Epoch 52/1000\n",
            "117/117 [==============================] - 0s 157us/sample - loss: 0.3353 - acc: 0.8205 - val_loss: 0.4205 - val_acc: 0.8205\n",
            "Epoch 53/1000\n",
            "117/117 [==============================] - 0s 130us/sample - loss: 0.3341 - acc: 0.8291 - val_loss: 0.4197 - val_acc: 0.8205\n",
            "Epoch 54/1000\n",
            "117/117 [==============================] - 0s 135us/sample - loss: 0.3321 - acc: 0.8291 - val_loss: 0.4197 - val_acc: 0.8205\n",
            "Epoch 55/1000\n",
            "117/117 [==============================] - 0s 134us/sample - loss: 0.3323 - acc: 0.8291 - val_loss: 0.4182 - val_acc: 0.8205\n",
            "Epoch 56/1000\n",
            "117/117 [==============================] - 0s 142us/sample - loss: 0.3294 - acc: 0.8376 - val_loss: 0.4187 - val_acc: 0.8205\n",
            "Epoch 57/1000\n",
            "117/117 [==============================] - 0s 122us/sample - loss: 0.3289 - acc: 0.8376 - val_loss: 0.4193 - val_acc: 0.8205\n",
            "Epoch 58/1000\n",
            "117/117 [==============================] - 0s 126us/sample - loss: 0.3268 - acc: 0.8376 - val_loss: 0.4175 - val_acc: 0.8205\n",
            "Epoch 59/1000\n",
            "117/117 [==============================] - 0s 146us/sample - loss: 0.3253 - acc: 0.8376 - val_loss: 0.4171 - val_acc: 0.8205\n",
            "Epoch 60/1000\n",
            "117/117 [==============================] - 0s 142us/sample - loss: 0.3238 - acc: 0.8462 - val_loss: 0.4155 - val_acc: 0.8205\n",
            "Epoch 61/1000\n",
            "117/117 [==============================] - 0s 103us/sample - loss: 0.3227 - acc: 0.8462 - val_loss: 0.4143 - val_acc: 0.8205\n",
            "Epoch 62/1000\n",
            "117/117 [==============================] - 0s 111us/sample - loss: 0.3213 - acc: 0.8462 - val_loss: 0.4137 - val_acc: 0.8205\n",
            "Epoch 63/1000\n",
            "117/117 [==============================] - 0s 113us/sample - loss: 0.3200 - acc: 0.8462 - val_loss: 0.4125 - val_acc: 0.8205\n",
            "Epoch 64/1000\n",
            "117/117 [==============================] - 0s 114us/sample - loss: 0.3186 - acc: 0.8462 - val_loss: 0.4120 - val_acc: 0.8205\n",
            "Epoch 65/1000\n",
            "117/117 [==============================] - 0s 133us/sample - loss: 0.3173 - acc: 0.8462 - val_loss: 0.4111 - val_acc: 0.7949\n",
            "Epoch 66/1000\n",
            "117/117 [==============================] - 0s 112us/sample - loss: 0.3161 - acc: 0.8376 - val_loss: 0.4105 - val_acc: 0.8205\n",
            "Epoch 67/1000\n",
            "117/117 [==============================] - 0s 117us/sample - loss: 0.3150 - acc: 0.8376 - val_loss: 0.4101 - val_acc: 0.8205\n",
            "Epoch 68/1000\n",
            "117/117 [==============================] - 0s 120us/sample - loss: 0.3130 - acc: 0.8462 - val_loss: 0.4114 - val_acc: 0.8205\n",
            "Epoch 69/1000\n",
            "117/117 [==============================] - 0s 125us/sample - loss: 0.3130 - acc: 0.8547 - val_loss: 0.4131 - val_acc: 0.8205\n",
            "Epoch 70/1000\n",
            "117/117 [==============================] - 0s 133us/sample - loss: 0.3111 - acc: 0.8547 - val_loss: 0.4119 - val_acc: 0.8205\n",
            "Epoch 71/1000\n",
            "117/117 [==============================] - 0s 98us/sample - loss: 0.3098 - acc: 0.8547 - val_loss: 0.4098 - val_acc: 0.8205\n",
            "Epoch 72/1000\n",
            "117/117 [==============================] - 0s 109us/sample - loss: 0.3082 - acc: 0.8462 - val_loss: 0.4072 - val_acc: 0.7949\n",
            "Epoch 73/1000\n",
            "117/117 [==============================] - 0s 107us/sample - loss: 0.3069 - acc: 0.8462 - val_loss: 0.4065 - val_acc: 0.7949\n",
            "Epoch 74/1000\n",
            "117/117 [==============================] - 0s 97us/sample - loss: 0.3055 - acc: 0.8462 - val_loss: 0.4050 - val_acc: 0.7949\n",
            "Epoch 75/1000\n",
            "117/117 [==============================] - 0s 104us/sample - loss: 0.3043 - acc: 0.8462 - val_loss: 0.4040 - val_acc: 0.7949\n",
            "Epoch 76/1000\n",
            "117/117 [==============================] - 0s 128us/sample - loss: 0.3034 - acc: 0.8462 - val_loss: 0.4027 - val_acc: 0.7949\n",
            "Epoch 77/1000\n",
            "117/117 [==============================] - 0s 115us/sample - loss: 0.3020 - acc: 0.8547 - val_loss: 0.4025 - val_acc: 0.7949\n",
            "Epoch 78/1000\n",
            "117/117 [==============================] - 0s 127us/sample - loss: 0.3009 - acc: 0.8462 - val_loss: 0.4031 - val_acc: 0.7949\n",
            "Epoch 79/1000\n",
            "117/117 [==============================] - 0s 140us/sample - loss: 0.2991 - acc: 0.8547 - val_loss: 0.4032 - val_acc: 0.7949\n",
            "Epoch 80/1000\n",
            "117/117 [==============================] - 0s 134us/sample - loss: 0.2980 - acc: 0.8632 - val_loss: 0.4034 - val_acc: 0.7949\n",
            "Epoch 81/1000\n",
            "117/117 [==============================] - 0s 113us/sample - loss: 0.2975 - acc: 0.8632 - val_loss: 0.4037 - val_acc: 0.8205\n",
            "Epoch 82/1000\n",
            "117/117 [==============================] - 0s 113us/sample - loss: 0.2961 - acc: 0.8632 - val_loss: 0.4010 - val_acc: 0.7949\n",
            "Epoch 83/1000\n",
            "117/117 [==============================] - 0s 120us/sample - loss: 0.2946 - acc: 0.8718 - val_loss: 0.4003 - val_acc: 0.7949\n",
            "Epoch 84/1000\n",
            "117/117 [==============================] - 0s 124us/sample - loss: 0.2936 - acc: 0.8718 - val_loss: 0.4004 - val_acc: 0.7949\n",
            "Epoch 85/1000\n",
            "117/117 [==============================] - 0s 106us/sample - loss: 0.2922 - acc: 0.8718 - val_loss: 0.3992 - val_acc: 0.7949\n",
            "Epoch 86/1000\n",
            "117/117 [==============================] - 0s 132us/sample - loss: 0.2909 - acc: 0.8718 - val_loss: 0.3981 - val_acc: 0.7949\n",
            "Epoch 87/1000\n",
            "117/117 [==============================] - 0s 119us/sample - loss: 0.2905 - acc: 0.8718 - val_loss: 0.3988 - val_acc: 0.7949\n",
            "Epoch 88/1000\n",
            "117/117 [==============================] - 0s 133us/sample - loss: 0.2884 - acc: 0.8718 - val_loss: 0.3979 - val_acc: 0.7949\n",
            "Epoch 89/1000\n",
            "117/117 [==============================] - 0s 126us/sample - loss: 0.2874 - acc: 0.8718 - val_loss: 0.3965 - val_acc: 0.7949\n",
            "Epoch 90/1000\n",
            "117/117 [==============================] - 0s 141us/sample - loss: 0.2862 - acc: 0.8718 - val_loss: 0.3957 - val_acc: 0.7949\n",
            "Epoch 91/1000\n",
            "117/117 [==============================] - 0s 138us/sample - loss: 0.2853 - acc: 0.8718 - val_loss: 0.3948 - val_acc: 0.7949\n",
            "Epoch 92/1000\n",
            "117/117 [==============================] - 0s 146us/sample - loss: 0.2841 - acc: 0.8718 - val_loss: 0.3938 - val_acc: 0.7949\n",
            "Epoch 93/1000\n",
            "117/117 [==============================] - 0s 156us/sample - loss: 0.2832 - acc: 0.8803 - val_loss: 0.3943 - val_acc: 0.7949\n",
            "Epoch 94/1000\n",
            "117/117 [==============================] - 0s 120us/sample - loss: 0.2820 - acc: 0.8803 - val_loss: 0.3936 - val_acc: 0.7949\n",
            "Epoch 95/1000\n",
            "117/117 [==============================] - 0s 130us/sample - loss: 0.2812 - acc: 0.8889 - val_loss: 0.3930 - val_acc: 0.7949\n",
            "Epoch 96/1000\n",
            "117/117 [==============================] - 0s 128us/sample - loss: 0.2797 - acc: 0.8889 - val_loss: 0.3932 - val_acc: 0.7949\n",
            "Epoch 97/1000\n",
            "117/117 [==============================] - 0s 125us/sample - loss: 0.2787 - acc: 0.8889 - val_loss: 0.3945 - val_acc: 0.7949\n",
            "Epoch 98/1000\n",
            "117/117 [==============================] - 0s 114us/sample - loss: 0.2775 - acc: 0.8974 - val_loss: 0.3950 - val_acc: 0.7949\n",
            "Epoch 99/1000\n",
            "117/117 [==============================] - 0s 105us/sample - loss: 0.2774 - acc: 0.8974 - val_loss: 0.3958 - val_acc: 0.8205\n",
            "Epoch 100/1000\n",
            "117/117 [==============================] - 0s 111us/sample - loss: 0.2757 - acc: 0.8974 - val_loss: 0.3931 - val_acc: 0.7949\n",
            "Epoch 101/1000\n",
            "117/117 [==============================] - 0s 126us/sample - loss: 0.2745 - acc: 0.8889 - val_loss: 0.3907 - val_acc: 0.7949\n",
            "Epoch 102/1000\n",
            "117/117 [==============================] - 0s 135us/sample - loss: 0.2735 - acc: 0.8889 - val_loss: 0.3893 - val_acc: 0.7949\n",
            "Epoch 103/1000\n",
            "117/117 [==============================] - 0s 119us/sample - loss: 0.2723 - acc: 0.8889 - val_loss: 0.3889 - val_acc: 0.7949\n",
            "Epoch 104/1000\n",
            "117/117 [==============================] - 0s 121us/sample - loss: 0.2722 - acc: 0.8889 - val_loss: 0.3895 - val_acc: 0.7949\n",
            "Epoch 105/1000\n",
            "117/117 [==============================] - 0s 130us/sample - loss: 0.2704 - acc: 0.8974 - val_loss: 0.3887 - val_acc: 0.7949\n",
            "Epoch 106/1000\n",
            "117/117 [==============================] - 0s 119us/sample - loss: 0.2693 - acc: 0.8974 - val_loss: 0.3885 - val_acc: 0.7949\n",
            "Epoch 107/1000\n",
            "117/117 [==============================] - 0s 119us/sample - loss: 0.2684 - acc: 0.8974 - val_loss: 0.3887 - val_acc: 0.7949\n",
            "Epoch 108/1000\n",
            "117/117 [==============================] - 0s 111us/sample - loss: 0.2674 - acc: 0.8974 - val_loss: 0.3881 - val_acc: 0.7949\n",
            "Epoch 109/1000\n",
            "117/117 [==============================] - 0s 98us/sample - loss: 0.2664 - acc: 0.8974 - val_loss: 0.3895 - val_acc: 0.7949\n",
            "Epoch 110/1000\n",
            "117/117 [==============================] - 0s 117us/sample - loss: 0.2655 - acc: 0.8974 - val_loss: 0.3884 - val_acc: 0.7949\n",
            "Epoch 111/1000\n",
            "117/117 [==============================] - 0s 113us/sample - loss: 0.2644 - acc: 0.8974 - val_loss: 0.3874 - val_acc: 0.7949\n",
            "Epoch 112/1000\n",
            "117/117 [==============================] - 0s 109us/sample - loss: 0.2634 - acc: 0.8974 - val_loss: 0.3863 - val_acc: 0.8205\n",
            "Epoch 113/1000\n",
            "117/117 [==============================] - 0s 105us/sample - loss: 0.2623 - acc: 0.8974 - val_loss: 0.3865 - val_acc: 0.8205\n",
            "Epoch 114/1000\n",
            "117/117 [==============================] - 0s 128us/sample - loss: 0.2615 - acc: 0.8974 - val_loss: 0.3861 - val_acc: 0.8205\n",
            "Epoch 115/1000\n",
            "117/117 [==============================] - 0s 131us/sample - loss: 0.2605 - acc: 0.9060 - val_loss: 0.3862 - val_acc: 0.8205\n",
            "Epoch 116/1000\n",
            "117/117 [==============================] - 0s 130us/sample - loss: 0.2598 - acc: 0.9060 - val_loss: 0.3873 - val_acc: 0.7949\n",
            "Epoch 117/1000\n",
            "117/117 [==============================] - 0s 136us/sample - loss: 0.2587 - acc: 0.9060 - val_loss: 0.3858 - val_acc: 0.8205\n",
            "Epoch 118/1000\n",
            "117/117 [==============================] - 0s 114us/sample - loss: 0.2577 - acc: 0.9060 - val_loss: 0.3846 - val_acc: 0.8205\n",
            "Epoch 119/1000\n",
            "117/117 [==============================] - 0s 127us/sample - loss: 0.2600 - acc: 0.8974 - val_loss: 0.3802 - val_acc: 0.8205\n",
            "Epoch 120/1000\n",
            "117/117 [==============================] - 0s 114us/sample - loss: 0.2568 - acc: 0.8974 - val_loss: 0.3800 - val_acc: 0.8205\n",
            "Epoch 121/1000\n",
            "117/117 [==============================] - 0s 108us/sample - loss: 0.2559 - acc: 0.9060 - val_loss: 0.3839 - val_acc: 0.8205\n",
            "Epoch 122/1000\n",
            "117/117 [==============================] - 0s 100us/sample - loss: 0.2544 - acc: 0.9060 - val_loss: 0.3856 - val_acc: 0.8462\n",
            "Epoch 123/1000\n",
            "117/117 [==============================] - 0s 98us/sample - loss: 0.2538 - acc: 0.9060 - val_loss: 0.3857 - val_acc: 0.8462\n",
            "Epoch 124/1000\n",
            "117/117 [==============================] - 0s 114us/sample - loss: 0.2525 - acc: 0.9060 - val_loss: 0.3834 - val_acc: 0.8205\n",
            "Epoch 125/1000\n",
            "117/117 [==============================] - 0s 112us/sample - loss: 0.2518 - acc: 0.9060 - val_loss: 0.3833 - val_acc: 0.8205\n",
            "Epoch 126/1000\n",
            "117/117 [==============================] - 0s 121us/sample - loss: 0.2507 - acc: 0.9060 - val_loss: 0.3804 - val_acc: 0.8205\n",
            "Epoch 127/1000\n",
            "117/117 [==============================] - 0s 133us/sample - loss: 0.2497 - acc: 0.9060 - val_loss: 0.3797 - val_acc: 0.8205\n",
            "Epoch 128/1000\n",
            "117/117 [==============================] - 0s 112us/sample - loss: 0.2489 - acc: 0.9060 - val_loss: 0.3801 - val_acc: 0.8205\n",
            "Epoch 129/1000\n",
            "117/117 [==============================] - 0s 136us/sample - loss: 0.2479 - acc: 0.9060 - val_loss: 0.3791 - val_acc: 0.8205\n",
            "Epoch 130/1000\n",
            "117/117 [==============================] - 0s 126us/sample - loss: 0.2471 - acc: 0.9060 - val_loss: 0.3794 - val_acc: 0.8205\n",
            "Epoch 131/1000\n",
            "117/117 [==============================] - 0s 115us/sample - loss: 0.2463 - acc: 0.9060 - val_loss: 0.3799 - val_acc: 0.8205\n",
            "Epoch 132/1000\n",
            "117/117 [==============================] - 0s 129us/sample - loss: 0.2459 - acc: 0.9060 - val_loss: 0.3786 - val_acc: 0.8205\n",
            "Epoch 133/1000\n",
            "117/117 [==============================] - 0s 122us/sample - loss: 0.2445 - acc: 0.9060 - val_loss: 0.3802 - val_acc: 0.8205\n",
            "Epoch 134/1000\n",
            "117/117 [==============================] - 0s 122us/sample - loss: 0.2440 - acc: 0.9060 - val_loss: 0.3817 - val_acc: 0.8205\n",
            "Epoch 135/1000\n",
            "117/117 [==============================] - 0s 116us/sample - loss: 0.2432 - acc: 0.9060 - val_loss: 0.3821 - val_acc: 0.8205\n",
            "Epoch 136/1000\n",
            "117/117 [==============================] - 0s 107us/sample - loss: 0.2425 - acc: 0.9060 - val_loss: 0.3818 - val_acc: 0.8205\n",
            "Epoch 137/1000\n",
            "117/117 [==============================] - 0s 105us/sample - loss: 0.2420 - acc: 0.9060 - val_loss: 0.3785 - val_acc: 0.8205\n",
            "Epoch 138/1000\n",
            "117/117 [==============================] - 0s 103us/sample - loss: 0.2417 - acc: 0.8974 - val_loss: 0.3771 - val_acc: 0.8205\n",
            "Epoch 139/1000\n",
            "117/117 [==============================] - 0s 107us/sample - loss: 0.2397 - acc: 0.8974 - val_loss: 0.3784 - val_acc: 0.8205\n",
            "Epoch 140/1000\n",
            "117/117 [==============================] - 0s 128us/sample - loss: 0.2399 - acc: 0.9060 - val_loss: 0.3805 - val_acc: 0.8205\n",
            "Epoch 141/1000\n",
            "117/117 [==============================] - 0s 139us/sample - loss: 0.2383 - acc: 0.9060 - val_loss: 0.3790 - val_acc: 0.8205\n",
            "Epoch 142/1000\n",
            "117/117 [==============================] - 0s 105us/sample - loss: 0.2378 - acc: 0.8974 - val_loss: 0.3766 - val_acc: 0.8205\n",
            "Epoch 143/1000\n",
            "117/117 [==============================] - 0s 139us/sample - loss: 0.2372 - acc: 0.9060 - val_loss: 0.3733 - val_acc: 0.8205\n",
            "Epoch 144/1000\n",
            "117/117 [==============================] - 0s 98us/sample - loss: 0.2363 - acc: 0.9145 - val_loss: 0.3738 - val_acc: 0.8205\n",
            "Epoch 145/1000\n",
            "117/117 [==============================] - 0s 134us/sample - loss: 0.2351 - acc: 0.9060 - val_loss: 0.3741 - val_acc: 0.8205\n",
            "Epoch 146/1000\n",
            "117/117 [==============================] - 0s 133us/sample - loss: 0.2345 - acc: 0.9060 - val_loss: 0.3734 - val_acc: 0.8205\n",
            "Epoch 147/1000\n",
            "117/117 [==============================] - 0s 99us/sample - loss: 0.2337 - acc: 0.9060 - val_loss: 0.3740 - val_acc: 0.8205\n",
            "Epoch 148/1000\n",
            "117/117 [==============================] - 0s 113us/sample - loss: 0.2328 - acc: 0.9060 - val_loss: 0.3741 - val_acc: 0.8205\n",
            "Epoch 149/1000\n",
            "117/117 [==============================] - 0s 108us/sample - loss: 0.2322 - acc: 0.9060 - val_loss: 0.3751 - val_acc: 0.8205\n",
            "Epoch 150/1000\n",
            "117/117 [==============================] - 0s 140us/sample - loss: 0.2316 - acc: 0.9145 - val_loss: 0.3761 - val_acc: 0.8205\n",
            "Epoch 151/1000\n",
            "117/117 [==============================] - 0s 115us/sample - loss: 0.2308 - acc: 0.9060 - val_loss: 0.3749 - val_acc: 0.8205\n",
            "Epoch 152/1000\n",
            "117/117 [==============================] - 0s 108us/sample - loss: 0.2301 - acc: 0.9231 - val_loss: 0.3720 - val_acc: 0.8205\n",
            "Epoch 153/1000\n",
            "117/117 [==============================] - 0s 133us/sample - loss: 0.2289 - acc: 0.9145 - val_loss: 0.3718 - val_acc: 0.8205\n",
            "Epoch 154/1000\n",
            "117/117 [==============================] - 0s 125us/sample - loss: 0.2283 - acc: 0.9145 - val_loss: 0.3716 - val_acc: 0.8205\n",
            "Epoch 155/1000\n",
            "117/117 [==============================] - 0s 109us/sample - loss: 0.2278 - acc: 0.9145 - val_loss: 0.3702 - val_acc: 0.8205\n",
            "Epoch 156/1000\n",
            "117/117 [==============================] - 0s 106us/sample - loss: 0.2279 - acc: 0.9145 - val_loss: 0.3692 - val_acc: 0.8205\n",
            "Epoch 157/1000\n",
            "117/117 [==============================] - 0s 119us/sample - loss: 0.2265 - acc: 0.9145 - val_loss: 0.3708 - val_acc: 0.8205\n",
            "Epoch 158/1000\n",
            "117/117 [==============================] - 0s 102us/sample - loss: 0.2258 - acc: 0.9145 - val_loss: 0.3729 - val_acc: 0.8205\n",
            "Epoch 159/1000\n",
            "117/117 [==============================] - 0s 125us/sample - loss: 0.2247 - acc: 0.9145 - val_loss: 0.3732 - val_acc: 0.8205\n",
            "Epoch 160/1000\n",
            "117/117 [==============================] - 0s 114us/sample - loss: 0.2245 - acc: 0.9145 - val_loss: 0.3701 - val_acc: 0.8205\n",
            "Epoch 161/1000\n",
            "117/117 [==============================] - 0s 123us/sample - loss: 0.2231 - acc: 0.9145 - val_loss: 0.3706 - val_acc: 0.8205\n",
            "Epoch 162/1000\n",
            "117/117 [==============================] - 0s 128us/sample - loss: 0.2230 - acc: 0.9145 - val_loss: 0.3735 - val_acc: 0.8205\n",
            "Epoch 163/1000\n",
            "117/117 [==============================] - 0s 122us/sample - loss: 0.2220 - acc: 0.9145 - val_loss: 0.3728 - val_acc: 0.8205\n",
            "Epoch 164/1000\n",
            "117/117 [==============================] - 0s 139us/sample - loss: 0.2209 - acc: 0.9145 - val_loss: 0.3734 - val_acc: 0.8205\n",
            "Epoch 165/1000\n",
            "117/117 [==============================] - 0s 127us/sample - loss: 0.2208 - acc: 0.9145 - val_loss: 0.3739 - val_acc: 0.8205\n",
            "Epoch 166/1000\n",
            "117/117 [==============================] - 0s 180us/sample - loss: 0.2195 - acc: 0.9145 - val_loss: 0.3717 - val_acc: 0.8205\n",
            "Epoch 00166: early stopping\n"
          ],
          "name": "stdout"
        }
      ]
    },
    {
      "cell_type": "code",
      "metadata": {
        "id": "IUREBrdMyN1e",
        "colab_type": "code",
        "colab": {
          "base_uri": "https://localhost:8080/",
          "height": 51
        },
        "outputId": "cd2eb6d7-26e1-40e8-ad2f-3e3fdb25034f"
      },
      "source": [
        "model.evaluate(X_test, Y_test)"
      ],
      "execution_count": 15,
      "outputs": [
        {
          "output_type": "stream",
          "text": [
            "39/39 [==============================] - 0s 225us/sample - loss: 0.1840 - acc: 0.9487\n"
          ],
          "name": "stdout"
        },
        {
          "output_type": "execute_result",
          "data": {
            "text/plain": [
              "[0.18403061078144953, 0.94871795]"
            ]
          },
          "metadata": {
            "tags": []
          },
          "execution_count": 15
        }
      ]
    },
    {
      "cell_type": "code",
      "metadata": {
        "id": "NIhFb55lBRjo",
        "colab_type": "code",
        "colab": {
          "base_uri": "https://localhost:8080/",
          "height": 283
        },
        "outputId": "e52c482a-cccf-4a7e-9287-9f904ebd3b4e"
      },
      "source": [
        "plt.plot(history.history[\"loss\"])\n",
        "plt.plot(history.history[\"val_loss\"])"
      ],
      "execution_count": 28,
      "outputs": [
        {
          "output_type": "execute_result",
          "data": {
            "text/plain": [
              "[<matplotlib.lines.Line2D at 0x7f0cfc333a90>]"
            ]
          },
          "metadata": {
            "tags": []
          },
          "execution_count": 28
        },
        {
          "output_type": "display_data",
          "data": {
            "image/png": "[encoded data removed]",
            "text/plain": [
              "<Figure size 432x288 with 1 Axes>"
            ]
          },
          "metadata": {
            "tags": []
          }
        }
      ]
    },
    {
      "cell_type": "code",
      "metadata": {
        "id": "0gxi9alQBmrh",
        "colab_type": "code",
        "colab": {
          "base_uri": "https://localhost:8080/",
          "height": 282
        },
        "outputId": "c4e928a7-0bc8-4479-b8f3-5c48d7c8229b"
      },
      "source": [
        "plt.plot(history.history[\"acc\"])\n",
        "plt.plot(history.history[\"val_acc\"])"
      ],
      "execution_count": 27,
      "outputs": [
        {
          "output_type": "execute_result",
          "data": {
            "text/plain": [
              "[<matplotlib.lines.Line2D at 0x7f0cfc3c4358>]"
            ]
          },
          "metadata": {
            "tags": []
          },
          "execution_count": 27
        },
        {
          "output_type": "display_data",
          "data": {
            "image/png": "[encoded data removed]",
            "text/plain": [
              "<Figure size 432x288 with 1 Axes>"
            ]
          },
          "metadata": {
            "tags": []
          }
        }
      ]
    },
    {
      "cell_type": "code",
      "metadata": {
        "id": "p19n6N6eBsgm",
        "colab_type": "code",
        "colab": {}
      },
      "source": [
        ""
      ],
      "execution_count": 0,
      "outputs": []
    }
  ]
}